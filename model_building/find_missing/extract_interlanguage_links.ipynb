{
 "cells": [
  {
   "cell_type": "code",
   "execution_count": 6,
   "metadata": {
    "collapsed": true
   },
   "outputs": [],
   "source": [
    "import os,sys,inspect\n",
    "currentdir = os.path.dirname(os.path.abspath(inspect.getfile(inspect.currentframe())))\n",
    "parentdir = os.path.dirname(currentdir)\n",
    "sys.path.insert(0,parentdir) \n",
    "from spark_util import save_rdd, get_parser\n",
    "\n",
    "import json, re, codecs, sys, HTMLParser\n",
    "\n",
    "\n",
    "JSON_PATTERN = re.compile(r'^\\s*<text xml:space=\"preserve\">(\\{&quot;type&quot;:&quot;item&quot;,&quot;id&quot;:&quot;Q.*&quot;,&quot;labels&quot;:.*)</text>')\n",
    "WIKI_PATTERN = re.compile(r'^(.*)wiki$')\n",
    "PARSER = HTMLParser.HTMLParser()\n",
    "\n",
    "def get_WILL(line):\n",
    "    match = JSON_PATTERN.match(line)\n",
    "    if not match:\n",
    "        return []\n",
    "    line = PARSER.unescape(match.group(1))\n",
    "    obj = json.loads(line)\n",
    "    links = obj['sitelinks']\n",
    "    if len(links) == 0:\n",
    "      links = dict()\n",
    "    ret = []\n",
    "    for wiki in sorted(links.keys()):\n",
    "        m = WIKI_PATTERN.match(wiki)\n",
    "        if m:\n",
    "            lang = m.group(1)\n",
    "            ret.append('\\t'.join([obj['id'], lang, links[wiki]['title']]))\n",
    "    return ret\n"
   ]
  },
  {
   "cell_type": "code",
   "execution_count": 7,
   "metadata": {
    "collapsed": false
   },
   "outputs": [],
   "source": [
    "dumpfile = '/user/ellery/translation-recs-app/data/wikidata/wikidatawiki-latest-pages-articles.xml.bz2'\n",
    "dump = sc.textFile(dumpfile)"
   ]
  },
  {
   "cell_type": "code",
   "execution_count": 8,
   "metadata": {
    "collapsed": false
   },
   "outputs": [
    {
     "data": {
      "text/plain": [
       "[u'Q15\\tace\\tAfrika',\n",
       " u'Q15\\taf\\tAfrika',\n",
       " u'Q15\\tak\\tAfrika',\n",
       " u'Q15\\tals\\tAfrika',\n",
       " u'Q15\\tam\\t\\u12a0\\u134d\\u122a\\u1243',\n",
       " u'Q15\\tang\\tAffrica',\n",
       " u'Q15\\tan\\tAfrica',\n",
       " u'Q15\\tarc\\t\\u0710\\u0726\\u072a\\u071d\\u0729\\u0710',\n",
       " u'Q15\\tar\\t\\u0623\\u0641\\u0631\\u064a\\u0642\\u064a\\u0627',\n",
       " u'Q15\\tarz\\t\\u0627\\u0641\\u0631\\u064a\\u0642\\u064a\\u0627']"
      ]
     },
     "execution_count": 8,
     "metadata": {},
     "output_type": "execute_result"
    }
   ],
   "source": [
    "dump.flatMap(get_WILL).take(10)"
   ]
  },
  {
   "cell_type": "code",
   "execution_count": null,
   "metadata": {
    "collapsed": true
   },
   "outputs": [],
   "source": [
    "WILLfile = '/user/ellery/translation-recs-app/data/wikidata/WILLs.tsv'\n",
    "os.system('hadoop fs -rm -r ' + WILLfile)"
   ]
  },
  {
   "cell_type": "code",
   "execution_count": null,
   "metadata": {
    "collapsed": true
   },
   "outputs": [],
   "source": [
    "dump.flatMap(get_WILL).saveAsTextFile ( WILLfile)"
   ]
  }
 ],
 "metadata": {
  "kernelspec": {
   "display_name": "Python 2",
   "language": "python",
   "name": "python2"
  },
  "language_info": {
   "codemirror_mode": {
    "name": "ipython",
    "version": 2
   },
   "file_extension": ".py",
   "mimetype": "text/x-python",
   "name": "python",
   "nbconvert_exporter": "python",
   "pygments_lexer": "ipython2",
   "version": "2.7.10"
  }
 },
 "nbformat": 4,
 "nbformat_minor": 0
}
