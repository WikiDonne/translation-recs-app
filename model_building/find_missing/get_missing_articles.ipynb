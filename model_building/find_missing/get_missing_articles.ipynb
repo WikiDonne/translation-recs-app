{
 "cells": [
  {
   "cell_type": "code",
   "execution_count": 2,
   "metadata": {
    "collapsed": false
   },
   "outputs": [],
   "source": [
    "import os,sys,inspect\n",
    "currentdir = os.path.dirname(os.path.abspath(inspect.getfile(inspect.currentframe())))\n",
    "parentdir = os.path.dirname(currentdir)\n",
    "sys.path.insert(0,parentdir) \n",
    "from spark_util import get_parser\n",
    "\n",
    "\n",
    "from get_missing_articles import *\n",
    "import os\n",
    "import codecs\n",
    "import networkx as nx\n",
    "from collections import Counter\n",
    "from pprint import pprint\n",
    "from ConfigParser import SafeConfigParser\n",
    "import pandas as pd"
   ]
  },
  {
   "cell_type": "code",
   "execution_count": 3,
   "metadata": {
    "collapsed": false
   },
   "outputs": [],
   "source": [
    "s = 'simple'\n",
    "t = 'es'\n",
    "\n",
    "cp = SafeConfigParser()\n",
    "cp.read('/home/ellery/translation-recs-app/translation-recs.ini')\n",
    "\n",
    "delim = '|'\n",
    "\n",
    "outerdir = os.path.join(cp.get('general', 'local_data_dir'), 'translation-recs-app/data', s)\n",
    "if not os.path.exists(outerdir):\n",
    "    os.makedirs(outerdir)\n",
    "\n",
    "innerdir = os.path.join(cp.get('general', 'local_data_dir'), 'translation-recs-app/data', s, t)\n",
    "if not os.path.exists(innerdir):\n",
    "    os.makedirs(innerdir)\n",
    "\n",
    "\n",
    "wd_languages = set([s, t])\n",
    "rd_languages = set([s, t, 'wikidata'])\n",
    "ill_languages_from = set([s, t])\n",
    "ill_languages_to = set([s, t])\n",
    "\n",
    "\n",
    "\n",
    "G = create_graph(sc, cp, delim, wd_languages, rd_languages, ill_languages_from, ill_languages_to)\n",
    "print \"Got entire Graph\"\n",
    "\n",
    "get_missing_items(sc, cp, G, s, t, delim, os.path.join(innerdir, cp.get('missing', 'missing_items')))\n",
    "print \"Got missing Items\""
   ]
  },
  {
   "cell_type": "code",
   "execution_count": null,
   "metadata": {
    "collapsed": true
   },
   "outputs": [],
   "source": []
  }
 ],
 "metadata": {
  "kernelspec": {
   "display_name": "Python 2",
   "language": "python",
   "name": "python2"
  },
  "language_info": {
   "codemirror_mode": {
    "name": "ipython",
    "version": 2
   },
   "file_extension": ".py",
   "mimetype": "text/x-python",
   "name": "python",
   "nbconvert_exporter": "python",
   "pygments_lexer": "ipython2",
   "version": "2.7.10"
  }
 },
 "nbformat": 4,
 "nbformat_minor": 0
}
