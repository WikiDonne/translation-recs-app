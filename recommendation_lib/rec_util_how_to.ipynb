{
 "cells": [
  {
   "cell_type": "code",
   "execution_count": 12,
   "metadata": {
    "collapsed": false
   },
   "outputs": [
    {
     "name": "stdout",
     "output_type": "stream",
     "text": [
      "The autoreload extension is already loaded. To reload it, use:\n",
      "  %reload_ext autoreload\n"
     ]
    }
   ],
   "source": [
    "%load_ext autoreload\n",
    "%autoreload\n",
    "\n",
    "\n",
    "#import inspect, os\n",
    "#currentdir = os.path.dirname(os.path.abspath(inspect.getfile(inspect.currentframe())))\n",
    "#parentdir = os.path.dirname(currentdir)\n",
    "#os.sys.path.insert(0,parentdir)\n",
    "\n",
    "#from api.db_util import *\n",
    "from rec_util import TopicModel, LDATranslationRecommender, SearchTranslationRecommender, google_search, wiki_search"
   ]
  },
  {
   "cell_type": "code",
   "execution_count": 13,
   "metadata": {
    "collapsed": false
   },
   "outputs": [],
   "source": [
    "def google_search(s, article, n = 10):\n",
    "    q = 'site:%s.wikipedia.org %s' % (s, article)\n",
    "    results = list(search(q, stop=n))\n",
    "    main_articles = []\n",
    "    for r in results:\n",
    "        if r.startswith('https://en.wikipedia.org/wiki'):\n",
    "            r = r[30:]\n",
    "            if ':' not in r and '%3' not in r:\n",
    "                main_articles.append(r)\n",
    "    return main_articles\n",
    "                \n",
    "def wiki_search(s, article, n = 10):\n",
    "    mw_api = 'https://%s.wikipedia.org/w/api.php' % s\n",
    "    params = {\n",
    "        'action': 'query',\n",
    "        'list': 'search',\n",
    "        'format': 'json',\n",
    "        'srsearch': article,\n",
    "        'srnamespace' : 0,\n",
    "        'srwhat': 'text',\n",
    "        'srprop': 'wordcount',\n",
    "        'srlimit': n\n",
    "\n",
    "    }\n",
    "    response = requests.get(mw_api, params=params).json()['query']['search']\n",
    "    return [r['title'].replace(' ', '_') for r in response]  "
   ]
  },
  {
   "cell_type": "code",
   "execution_count": 142,
   "metadata": {
    "collapsed": false
   },
   "outputs": [],
   "source": [
    "import requests\n",
    "s='en'\n",
    "t = 'ca'\n",
    "\n",
    "def filter_missing(s, t, titles):\n",
    "    query = 'https://www.wikidata.org/w/api.php?action=wbgetentities&sites=%swiki&titles=%s&props=sitelinks/urls&format=json' % (s, '|'.join(titles))\n",
    "    response = requests.get(query).json()\n",
    "    missing = []\n",
    "    swiki = '%swiki' % s\n",
    "    twiki = '%swiki' % t\n",
    "    for k, v in response['entities'].items():\n",
    "        if 'sitelinks' in v:\n",
    "            if swiki in v['sitelinks'] and twiki not in v['sitelinks']:\n",
    "                missing.append(v['sitelinks'][swiki]['title'].replace(' ', '_'))\n",
    "    return [t for t in titles if t in missing]"
   ]
  },
  {
   "cell_type": "code",
   "execution_count": 99,
   "metadata": {
    "collapsed": false
   },
   "outputs": [],
   "source": [
    "from datetime import datetime\n",
    "from dateutil import relativedelta\n",
    "\n",
    "def get_views(s, articles):\n",
    "    \n",
    "    \n",
    "\n",
    "\n",
    "def get_article_views(s, article):\n",
    "    start = (datetime.utcnow() - relativedelta.relativedelta(days=1)).strftime('%Y%m%d00')\n",
    "    stop = (datetime.utcnow() - relativedelta.relativedelta(days=15)).strftime('%Y%m%d00')\n",
    "    query = \"https://wikimedia.org/api/rest_v1/metrics/pageviews/per-article/%s.wikipedia/all-access/user/%s/daily/%s/%s\"\n",
    "    query = query % (s, article, stop, start)\n",
    "    response = requests.get(query).json()\n",
    "    return sum([x['views'] for x in response['items']])\n",
    "\n",
    "\n"
   ]
  },
  {
   "cell_type": "code",
   "execution_count": 104,
   "metadata": {
    "collapsed": false
   },
   "outputs": [
    {
     "data": {
      "text/plain": [
       "1"
      ]
     },
     "execution_count": 104,
     "metadata": {},
     "output_type": "execute_result"
    }
   ],
   "source": [
    "start = (datetime.utcnow() - relativedelta.relativedelta(days=1))\n",
    "start.hour"
   ]
  },
  {
   "cell_type": "code",
   "execution_count": 167,
   "metadata": {
    "collapsed": false
   },
   "outputs": [],
   "source": [
    "\n",
    "\n",
    "def get_top_article_views(s):\n",
    "    dt = (datetime.utcnow() - relativedelta.relativedelta(days=2)).strftime('%Y/%m/%d')\n",
    "    query = \"https://wikimedia.org/api/rest_v1/metrics/pageviews/top/%s.wikipedia/all-access/%s\" % (s, dt)\n",
    "    response = requests.get(query).json()\n",
    "    article_pv_dict = OrderedDict()\n",
    "    for d in json.loads(response['items'][0]['articles']):\n",
    "        if 'article' in d and ':' not in d['article'] and not d['article'].startswith('List'):\n",
    "            article_pv_dict[d['article']] =  d['views']\n",
    "    return article_pv_dict"
   ]
  },
  {
   "cell_type": "code",
   "execution_count": 180,
   "metadata": {
    "collapsed": false
   },
   "outputs": [],
   "source": [
    "import multiprocessing as mp\n",
    "\n",
    "def get_article_views(arg_tuple):\n",
    "        s = arg_tuple[0]\n",
    "        article = arg_tuple[1]\n",
    "        start = (datetime.utcnow() - relativedelta.relativedelta(days=1)).strftime('%Y%m%d00')\n",
    "        stop = (datetime.utcnow() - relativedelta.relativedelta(days=15)).strftime('%Y%m%d00')\n",
    "        query = \"https://wikimedia.org/api/rest_v1/metrics/pageviews/per-article/%s.wikipedia/all-access/user/%s/daily/%s/%s\"\n",
    "        query = query % (s, article, stop, start)\n",
    "        response = requests.get(query).json()\n",
    "        return (article, sum([x['views'] for x in response['items']]))\n",
    "\n",
    "\n",
    "def get_article_views_parallel(s, articles):\n",
    "    p = mp.Pool(len(articles))\n",
    "    return dict(p.map(get_article_views, [(s, a) for a in articles]))"
   ]
  },
  {
   "cell_type": "code",
   "execution_count": 181,
   "metadata": {
    "collapsed": false
   },
   "outputs": [
    {
     "data": {
      "text/plain": [
       "{'Apple': 77282}"
      ]
     },
     "execution_count": 181,
     "metadata": {},
     "output_type": "execute_result"
    }
   ],
   "source": [
    "get_article_views_parallel('en', ['Apple', 'Apple'])"
   ]
  },
  {
   "cell_type": "code",
   "execution_count": 165,
   "metadata": {
    "collapsed": false
   },
   "outputs": [
    {
     "data": {
      "text/plain": [
       "['Main_Page',\n",
       " '-',\n",
       " 'Dulce_María',\n",
       " 'Anahí',\n",
       " 'Pen-y-Fan',\n",
       " 'Halloween',\n",
       " 'Black_hole',\n",
       " 'Spectre_(2015_film)',\n",
       " 'Adele',\n",
       " 'Michael_Thomas_Bass',\n",
       " 'Geeta_Basra',\n",
       " 'Ben_Carson',\n",
       " 'Deaths_in_2015',\n",
       " 'Wicked_City_(TV_series)',\n",
       " 'Bartolo_Colón',\n",
       " 'Scream_Queens_(2015_TV_series)',\n",
       " 'Star_Wars',\n",
       " 'Hillary_Clinton_presidential_campaign,_2016',\n",
       " 'Monitor–Merrimac_Memorial_Bridge–Tunnel',\n",
       " 'The_Walking_Dead_(TV_series)',\n",
       " 'Web_scraping',\n",
       " 'Koprulu_Sector',\n",
       " 'Day_of_the_Dead',\n",
       " 'Hannah_Davis_(model)',\n",
       " 'The_Flash_(2014_TV_series)',\n",
       " 'Kansas_City_Royals',\n",
       " 'Chris_Young_(pitcher)',\n",
       " 'Pablo_Escobar',\n",
       " 'Seventh-day_Adventist_Church',\n",
       " 'New_York_Mets',\n",
       " 'Hello_(Adele_song)',\n",
       " 'Charcot–Marie–Tooth_disease',\n",
       " '2014_World_Series',\n",
       " 'Joseph_Yule',\n",
       " 'King_Shark',\n",
       " 'Supergirl_(U.S._TV_series)',\n",
       " 'Halle_Berry',\n",
       " 'The_Walking_Dead_(season_6)',\n",
       " 'United_States',\n",
       " 'October_28',\n",
       " 'Wake_Island',\n",
       " 'Firestorm_(comics)',\n",
       " 'Lockheed_Martin_F-35_Lightning_II',\n",
       " 'Daniel_Craig',\n",
       " 'Ddd',\n",
       " 'Facebook',\n",
       " 'Steve_Jobs',\n",
       " '2015_World_Series',\n",
       " 'William_Gibson',\n",
       " 'Missouri_Executive_Order_44',\n",
       " 'Fargo_(TV_series)',\n",
       " 'Charles_Sobhraj',\n",
       " 'Battle_of_Concepción',\n",
       " 'Donald_Trump',\n",
       " 'Barack_Obama',\n",
       " 'Harry_Potter_and_the_Cursed_Child',\n",
       " 'Derek_Jeter',\n",
       " 'The_Voice_(U.S._season_9)',\n",
       " 'Hurricane_Patricia',\n",
       " 'Melinda_Saxe',\n",
       " 'David_Saxe',\n",
       " 'Google',\n",
       " 'Gateway_Arch',\n",
       " 'Seventh-day_Adventist_eschatology',\n",
       " 'Immune_system',\n",
       " 'Mark_Zuckerberg',\n",
       " 'Drake_(rapper)',\n",
       " 'Rihanna',\n",
       " 'Robert_Johnson',\n",
       " 'Chhota_Rajan',\n",
       " '25_(Adele_album)',\n",
       " 'Extra_innings',\n",
       " 'IPTV',\n",
       " 'Drew_Barrymore',\n",
       " 'India',\n",
       " 'Bill_Gates',\n",
       " 'Hippocrates_of_Cos',\n",
       " 'Hell_in_a_Cell_(2015)',\n",
       " 'Oak_Island',\n",
       " 'Dennis_Hastert',\n",
       " 'John_Cena',\n",
       " 'Gotham_(TV_series)',\n",
       " 'Stephen_Curry',\n",
       " 'Wikipedia',\n",
       " 'Agents_of_S.H.I.E.L.D._(season_3)',\n",
       " 'The_Martian_(film)',\n",
       " \"Maureen_O'Hara\",\n",
       " 'Melissa_Benoist',\n",
       " 'World_Series',\n",
       " 'Eric_Hosmer',\n",
       " 'YouTube',\n",
       " 'Friday_the_13th_(franchise)',\n",
       " 'Survivor_Series_(2015)',\n",
       " 'Flip_Saunders',\n",
       " 'American_Horror_Story',\n",
       " 'World_War_II',\n",
       " \"Assassin's_Creed_Syndicate\",\n",
       " 'Justin_Trudeau',\n",
       " 'Limitless_(TV_series)',\n",
       " 'Appalachian_Trail',\n",
       " 'Daylight_saving_time',\n",
       " 'Olivier_Martinez',\n",
       " 'Adolf_Hitler',\n",
       " 'Blindspot_(TV_series)',\n",
       " 'Quantico_(TV_series)',\n",
       " 'Elon_Musk',\n",
       " 'Shaandaar',\n",
       " 'Agents_of_S.H.I.E.L.D.',\n",
       " '2015_in_film',\n",
       " 'The_Man_from_U.N.C.L.E._(film)',\n",
       " 'Caitlyn_Jenner',\n",
       " 'Islamic_State_of_Iraq_and_the_Levant',\n",
       " 'Luke_Walton',\n",
       " 'WWE_2K16',\n",
       " 'Suicide_Squad_(film)',\n",
       " 'World_War_I',\n",
       " 'Arrow_(TV_series)',\n",
       " 'Dwayne_Johnson',\n",
       " 'The_Undertaker',\n",
       " 'Taylor_Swift',\n",
       " 'Long_Range_Strike_Bomber',\n",
       " 'Edinson_Volquez',\n",
       " 'Prem_Ratan_Dhan_Payo',\n",
       " 'Quetiapine',\n",
       " 'Monica_Bellucci',\n",
       " 'Crimson_Peak',\n",
       " 'United_Kingdom',\n",
       " 'Léa_Seydoux',\n",
       " 'Stephen_Hawking',\n",
       " 'Republican_Party_presidential_debates,_2016',\n",
       " 'Bernie_Sanders',\n",
       " 'James_Bond',\n",
       " 'United_States_presidential_election,_2016',\n",
       " 'Michael_J._Fox',\n",
       " 'Curtis_Granderson',\n",
       " 'Albert_Einstein',\n",
       " 'Jerry_Kill',\n",
       " 'Rachel_Weisz',\n",
       " 'Ryan_Mallett',\n",
       " 'Fallout_4',\n",
       " 'Pierre-Emerick_Aubameyang',\n",
       " 'Paul_Ryan',\n",
       " 'Uniform_resource_locator',\n",
       " 'Mahatma_Gandhi',\n",
       " 'Hocus_Pocus_(1993_film)',\n",
       " 'Justin_Bieber',\n",
       " 'Canada',\n",
       " 'JLENS',\n",
       " 'Mary,_Queen_of_Scots',\n",
       " 'Cristiano_Ronaldo',\n",
       " 'Cryotherapy',\n",
       " 'Inside-the-park_home_run',\n",
       " 'Pyaar_Ka_Punchnama_2',\n",
       " '2015_Hindu_Kush_earthquake',\n",
       " 'Gwen_Stefani',\n",
       " 'Wiki',\n",
       " 'Lionel_Messi',\n",
       " 'Thrust_bearing',\n",
       " 'Michael_Jackson',\n",
       " 'Statue_of_Liberty',\n",
       " 'Game_of_Thrones',\n",
       " 'Kim_Kardashian',\n",
       " 'Periodic_table',\n",
       " 'The_Last_Witch_Hunter',\n",
       " 'Diane_Charlemagne',\n",
       " 'Harbhajan_Singh',\n",
       " 'One-Punch_Man',\n",
       " 'IZombie_(TV_series)',\n",
       " 'Michael_Jordan',\n",
       " \"Assassin's_Creed\",\n",
       " 'Bridge_of_Spies_(film)',\n",
       " 'The_Weeknd',\n",
       " 'Ernst_Stavro_Blofeld',\n",
       " 'Football_League_Cup',\n",
       " 'Joe_Buck',\n",
       " 'Sam_Smith_(singer)',\n",
       " 'Australia',\n",
       " 'Patty_Spivot',\n",
       " 'Ed_Westwick',\n",
       " 'Scaphism',\n",
       " 'Northrop_Grumman_B-2_Spirit',\n",
       " 'The_Big_Bang_Theory',\n",
       " 'Lewis_Hamilton',\n",
       " 'John_Eleuthère_du_Pont',\n",
       " 'Harley_Quinn',\n",
       " 'Golden_Globe',\n",
       " 'Greco-Italian_War',\n",
       " 'Trolley_problem',\n",
       " 'Johnny_Depp',\n",
       " 'Syrian_Civil_War',\n",
       " 'Eminem',\n",
       " 'Diwali',\n",
       " '2015_FIFA_U-17_World_Cup',\n",
       " 'Jason_Voorhees',\n",
       " 'Antivirus_software',\n",
       " 'Sutrah',\n",
       " 'Jurassic_World',\n",
       " 'The_33_(film)',\n",
       " 'Dawood_Ibrahim',\n",
       " 'Mia_Khalifa',\n",
       " 'Creed_(film)',\n",
       " 'China',\n",
       " 'Abraham_Lincoln',\n",
       " 'Narcos',\n",
       " 'David_Prowse',\n",
       " 'A._P._J._Abdul_Kalam',\n",
       " 'Marlins_Man',\n",
       " 'Jessica_Jones',\n",
       " 'Joe_Torre',\n",
       " 'LeBron_James',\n",
       " 'Sunny_Leone',\n",
       " 'Elizabeth_II',\n",
       " 'Hillary_Clinton',\n",
       " 'How_to_Get_Away_with_Murder',\n",
       " 'Wally_West',\n",
       " 'Chris_Kyle',\n",
       " 'The_Voice_(U.S._TV_series)',\n",
       " 'William_Shakespeare',\n",
       " 'Fetty_Wap',\n",
       " 'Edgar_Allan_Poe',\n",
       " 'Hate_Story_3',\n",
       " 'Germany',\n",
       " 'Harry_Potter',\n",
       " '2015–16_Football_League_Cup',\n",
       " 'Enchantress_(DC_Comics)',\n",
       " 'Tom_Brady',\n",
       " 'SS_Cars_Ltd',\n",
       " 'Breaking_Bad',\n",
       " 'Empire_(2015_TV_series)',\n",
       " 'Abby_Wambach',\n",
       " 'New_York_City',\n",
       " 'Apple_Inc.',\n",
       " 'David_Wright',\n",
       " 'Singapore',\n",
       " 'Legends_of_Tomorrow',\n",
       " 'Ronda_Rousey',\n",
       " 'Lenny_Dykstra',\n",
       " 'Dancing_with_the_Stars_(U.S._season_21)',\n",
       " 'Glenn_Rhee',\n",
       " 'Russia',\n",
       " 'Amy_Winehouse',\n",
       " 'Everest_(2015_film)',\n",
       " 'Jane_the_Virgin',\n",
       " 'Argentina',\n",
       " 'Urban_Beach_Week',\n",
       " 'Skyfall',\n",
       " 'Back_to_the_Future',\n",
       " 'Fear_the_Walking_Dead',\n",
       " 'The_Gift_(2015_film)',\n",
       " 'Demi_Lovato',\n",
       " 'The_Walking_Dead_(season_5)',\n",
       " 'Dilwale_(2015_film)',\n",
       " 'Susquehanna_Bank_Park_at_Historic_Bowman_Field',\n",
       " '2015_Rugby_World_Cup',\n",
       " 'Vitamin',\n",
       " 'Priyanka_Chopra',\n",
       " 'Longest_professional_baseball_game',\n",
       " '1707_Hōei_earthquake',\n",
       " 'Erika_Christensen',\n",
       " 'The_Man_in_the_High_Castle',\n",
       " 'Steve-O',\n",
       " 'Hemlock_Grove_(TV_series)',\n",
       " 'Internet_Movie_Database',\n",
       " 'Golden_State_Warriors',\n",
       " 'RMS_Titanic',\n",
       " 'Southpaw_(film)',\n",
       " 'Wilmer_Flores',\n",
       " '2010_Copiapó_mining_accident',\n",
       " 'Japan',\n",
       " 'Cara_Delevingne',\n",
       " 'Salman_Khan',\n",
       " 'Next-Generation_Bomber',\n",
       " 'Leonardo_da_Vinci',\n",
       " 'It_Follows',\n",
       " 'Meatpacking_District,_Manhattan',\n",
       " 'The_Man_in_the_High_Castle_(TV_series)',\n",
       " 'Bam_Margera',\n",
       " 'Krampus',\n",
       " 'Workers_compensation',\n",
       " 'O._J._Simpson',\n",
       " 'Halo_(series)',\n",
       " 'Matt_Harvey',\n",
       " 'Amanda_Abbington',\n",
       " 'NATO_phonetic_alphabet',\n",
       " 'Mount_Everest',\n",
       " 'Angelina_Jolie',\n",
       " 'Lamar_Odom',\n",
       " 'Selena_Gomez',\n",
       " 'The_X_Factor_(UK_series_12)',\n",
       " 'Suicide_Squad',\n",
       " 'Alberto_Del_Rio',\n",
       " '1986_World_Series',\n",
       " 'Bradley_Cooper',\n",
       " 'London',\n",
       " 'Mike_Moustakas',\n",
       " 'Kauffman_Stadium',\n",
       " 'USS_Lassen_(DDG-82)',\n",
       " 'Christoph_Waltz',\n",
       " 'Neil_Patrick_Harris',\n",
       " 'Beasts_of_No_Nation_(film)']"
      ]
     },
     "execution_count": 165,
     "metadata": {},
     "output_type": "execute_result"
    }
   ],
   "source": [
    "import json\n",
    "list(articles.keys())[:300]"
   ]
  },
  {
   "cell_type": "code",
   "execution_count": 163,
   "metadata": {
    "collapsed": false
   },
   "outputs": [
    {
     "data": {
      "text/plain": [
       "['Republican_Party_presidential_primaries,_2016',\n",
       " 'Suicide_Squad',\n",
       " 'Atal_Pension_Yojana',\n",
       " 'Star_Wars_Battlefront_(2015_video_game)',\n",
       " 'Charles_Sobhraj',\n",
       " 'Urban_Beach_Week',\n",
       " 'Goosebumps_(film)',\n",
       " 'The_Curse_of_Oak_Island',\n",
       " 'Material',\n",
       " 'Terry_Collins',\n",
       " 'Fred_Hoiberg',\n",
       " 'Daniel_Murphy_(baseball)',\n",
       " 'Ruby_Rose',\n",
       " 'Gateway_Arch',\n",
       " 'Secret_in_Their_Eyes',\n",
       " 'Special_Atomic_Demolition_Munition',\n",
       " 'Tommy_John_surgery',\n",
       " 'The_Revenant_(2015_film)',\n",
       " 'Susquehanna_Bank_Park_at_Historic_Bowman_Field',\n",
       " 'Northrop_Grumman_B-2_Spirit']"
      ]
     },
     "execution_count": 163,
     "metadata": {},
     "output_type": "execute_result"
    }
   ],
   "source": [
    "filter_missing(s, t, list(articles.keys())[400:500])"
   ]
  },
  {
   "cell_type": "code",
   "execution_count": 102,
   "metadata": {
    "collapsed": false
   },
   "outputs": [
    {
     "data": {
      "text/plain": [
       "15050"
      ]
     },
     "execution_count": 102,
     "metadata": {},
     "output_type": "execute_result"
    }
   ],
   "source": [
    "get_views('en', 'Breakfast', start, stop)"
   ]
  },
  {
   "cell_type": "code",
   "execution_count": 72,
   "metadata": {
    "collapsed": false
   },
   "outputs": [
    {
     "data": {
      "text/plain": [
       "10939"
      ]
     },
     "execution_count": 72,
     "metadata": {},
     "output_type": "execute_result"
    }
   ],
   "source": [
    "n"
   ]
  },
  {
   "cell_type": "code",
   "execution_count": 65,
   "metadata": {
    "collapsed": false
   },
   "outputs": [
    {
     "data": {
      "text/plain": [
       "['Acemannan',\n",
       " 'Forever_Living_Products',\n",
       " 'Aloe_emodin',\n",
       " 'International_Aloe_Science_Council',\n",
       " 'Sunburn',\n",
       " 'Rex_Maughan']"
      ]
     },
     "execution_count": 65,
     "metadata": {},
     "output_type": "execute_result"
    }
   ],
   "source": [
    "filter_missing(s, t, titles)"
   ]
  },
  {
   "cell_type": "code",
   "execution_count": 36,
   "metadata": {
    "collapsed": false
   },
   "outputs": [
    {
     "data": {
      "text/plain": [
       "['Aloe_vera',\n",
       " 'Acemannan',\n",
       " 'Forever_Living_Products',\n",
       " 'Aloe',\n",
       " 'Sap',\n",
       " 'Aloe_emodin',\n",
       " 'International_Aloe_Science_Council',\n",
       " 'Aloe_arborescens',\n",
       " 'Sunburn',\n",
       " 'Rex_Maughan']"
      ]
     },
     "execution_count": 36,
     "metadata": {},
     "output_type": "execute_result"
    }
   ],
   "source": [
    "titles"
   ]
  },
  {
   "cell_type": "code",
   "execution_count": 23,
   "metadata": {
    "collapsed": false
   },
   "outputs": [
    {
     "name": "stdout",
     "output_type": "stream",
     "text": [
      "Sunburn\n",
      "Aloe emodin\n",
      "International Aloe Science Council\n",
      "Acemannan\n",
      "Rex Maughan\n"
     ]
    }
   ],
   "source": []
  },
  {
   "cell_type": "code",
   "execution_count": 8,
   "metadata": {
    "collapsed": false
   },
   "outputs": [
    {
     "name": "stdout",
     "output_type": "stream",
     "text": [
      "['Aloe_vera', 'Acemannan', 'Forever_Living_Products', 'Aloe', 'Sap', 'Aloe_emodin', 'International_Aloe_Science_Council', 'Aloe_arborescens', 'Sunburn', 'Rex_Maughan']\n"
     ]
    }
   ],
   "source": [
    "article = 'aloe vera'\n",
    "titles = wiki_search('en', article)\n",
    "print(titles)"
   ]
  },
  {
   "cell_type": "code",
   "execution_count": 6,
   "metadata": {
    "collapsed": false
   },
   "outputs": [
    {
     "name": "stdout",
     "output_type": "stream",
     "text": [
      "['Aloe_vera', 'Succulent_plant', 'Medicinal_plants', 'Xanthorrhoeaceae', 'Aloe', 'Aloe_buettneri', 'List_of_Aloe_species', 'Aloe_arborescens', 'Aloin', 'Acemannan', 'Aloe_broomii']\n"
     ]
    },
    {
     "name": "stderr",
     "output_type": "stream",
     "text": [
      "/Users/ellerywulczyn/miniconda3/lib/python3.4/site-packages/bs4/__init__.py:166: UserWarning: No parser was explicitly specified, so I'm using the best available HTML parser for this system (\"html.parser\"). This usually isn't a problem, but if you run this code on another system, or in a different virtual environment, it may use a different parser and behave differently.\n",
      "\n",
      "To get rid of this warning, change this:\n",
      "\n",
      " BeautifulSoup([your markup])\n",
      "\n",
      "to this:\n",
      "\n",
      " BeautifulSoup([your markup], \"html.parser\")\n",
      "\n",
      "  markup_type=markup_type))\n"
     ]
    }
   ],
   "source": [
    "try:\n",
    "    print (google_search('en', article))\n",
    "except:\n",
    "    print('upps')"
   ]
  },
  {
   "cell_type": "markdown",
   "metadata": {},
   "source": [
    "# Search Recommender"
   ]
  },
  {
   "cell_type": "code",
   "execution_count": 37,
   "metadata": {
    "collapsed": true
   },
   "outputs": [],
   "source": [
    "data_dir = '/Users/ellerywulczyn/translation-recs-app/data' # directory were the topic model data lives\n",
    "s = 'en' # source wiki\n",
    "t = 'it' # target wiki"
   ]
  },
  {
   "cell_type": "code",
   "execution_count": 38,
   "metadata": {
    "collapsed": false
   },
   "outputs": [],
   "source": [
    "tr = SearchTranslationRecommender(data_dir, s, t) # s->t missing article recommender"
   ]
  },
  {
   "cell_type": "code",
   "execution_count": 40,
   "metadata": {
    "collapsed": false
   },
   "outputs": [
    {
     "data": {
      "text/plain": [
       "False"
      ]
     },
     "execution_count": 40,
     "metadata": {},
     "output_type": "execute_result"
    }
   ],
   "source": [
    "'Albert_Einstein' in tr.missing_df.index"
   ]
  },
  {
   "cell_type": "code",
   "execution_count": 44,
   "metadata": {
    "collapsed": false
   },
   "outputs": [
    {
     "data": {
      "text/plain": [
       "[{'pageviews': 27321,\n",
       "  'title': \"Albert_Einstein's_brain\",\n",
       "  'wikidata_id': 'Q2464312'},\n",
       " {'pageviews': 23986, 'title': 'Einstein_family', 'wikidata_id': 'Q3292175'},\n",
       " {'pageviews': 20103, 'title': 'Eduard_Einstein', 'wikidata_id': 'Q118253'},\n",
       " {'pageviews': 13444,\n",
       "  'title': 'Bernhard_Caesar_Einstein',\n",
       "  'wikidata_id': 'Q824855'},\n",
       " {'pageviews': 7768,\n",
       "  'title': 'Albert_Einstein_College_of_Medicine',\n",
       "  'wikidata_id': 'Q2030894'},\n",
       " {'pageviews': 5131, 'title': 'Evelyn_Einstein', 'wikidata_id': 'Q432375'},\n",
       " {'pageviews': 4976,\n",
       "  'title': 'Political_views_of_Albert_Einstein',\n",
       "  'wikidata_id': 'Q4710118'},\n",
       " {'pageviews': 4446,\n",
       "  'title': 'Albert_Einstein_in_popular_culture',\n",
       "  'wikidata_id': 'Q4710136'},\n",
       " {'pageviews': 4269, 'title': 'Why_Socialism?', 'wikidata_id': 'Q3400616'},\n",
       " {'pageviews': 3612,\n",
       "  'title': 'Albert_Einstein_Award',\n",
       "  'wikidata_id': 'Q577432'},\n",
       " {'pageviews': 2547,\n",
       "  'title': 'Albert_Einstein_House',\n",
       "  'wikidata_id': 'Q4710127'},\n",
       " {'pageviews': 2265,\n",
       "  'title': \"Einstein's_awards_and_honors\",\n",
       "  'wikidata_id': 'Q5349781'},\n",
       " {'pageviews': 1785, 'title': 'Robert_Weinberg', 'wikidata_id': 'Q701506'},\n",
       " {'pageviews': 1707,\n",
       "  'title': 'Albert_Einstein_Memorial',\n",
       "  'wikidata_id': 'Q2402570'},\n",
       " {'pageviews': 1622,\n",
       "  'title': 'Albert_Einstein_World_Award_of_Science',\n",
       "  'wikidata_id': 'Q1287930'},\n",
       " {'pageviews': 1552,\n",
       "  'title': 'The_World_as_I_See_It_(book)',\n",
       "  'wikidata_id': 'Q2986155'},\n",
       " {'pageviews': 911,\n",
       "  'title': 'Einstein_Papers_Project',\n",
       "  'wikidata_id': 'Q5349792'},\n",
       " {'pageviews': 877,\n",
       "  'title': 'Einstein_Medical_Center',\n",
       "  'wikidata_id': 'Q4710134'},\n",
       " {'pageviews': 823,\n",
       "  'title': 'Albert_Einstein_Hospital',\n",
       "  'wikidata_id': 'Q1630439'},\n",
       " {'pageviews': 795,\n",
       "  'title': 'Albert_Einstein_High_School',\n",
       "  'wikidata_id': 'Q4710126'},\n",
       " {'pageviews': 666, 'title': 'Einstein_Prize_(APS)', 'wikidata_id': 'Q337789'},\n",
       " {'pageviews': 576,\n",
       "  'title': 'Albert_Einstein_Peace_Prize',\n",
       "  'wikidata_id': 'Q1670676'},\n",
       " {'pageviews': 506, 'title': 'Einsteinhaus', 'wikidata_id': 'Q390003'},\n",
       " {'pageviews': 454,\n",
       "  'title': 'Albert_Einstein_Institution',\n",
       "  'wikidata_id': 'Q2831153'},\n",
       " {'pageviews': 422,\n",
       "  'title': 'Max_Planck_Institute_for_Gravitational_Physics',\n",
       "  'wikidata_id': 'Q2778415'},\n",
       " {'pageviews': 291, 'title': 'Einstein_(surname)', 'wikidata_id': 'Q16834800'},\n",
       " {'pageviews': 231,\n",
       "  'title': 'Albert_Einstein_Science_Park',\n",
       "  'wikidata_id': 'Q1609378'},\n",
       " {'pageviews': 224,\n",
       "  'title': 'Albert_Einstein_Academy_Charter_School',\n",
       "  'wikidata_id': 'Q4710123'},\n",
       " {'pageviews': 213,\n",
       "  'title': 'Albert_Einstein_Society',\n",
       "  'wikidata_id': 'Q2904913'},\n",
       " {'pageviews': 132,\n",
       "  'title': 'Albert_Einstein_International_School_Amsterdam',\n",
       "  'wikidata_id': 'Q4710130'}]"
      ]
     },
     "execution_count": 44,
     "metadata": {},
     "output_type": "execute_result"
    }
   ],
   "source": [
    "tr.get_seeded_recommendations('albert einstein', num_recs=100)"
   ]
  },
  {
   "cell_type": "markdown",
   "metadata": {},
   "source": [
    "# Load Models"
   ]
  },
  {
   "cell_type": "code",
   "execution_count": 5,
   "metadata": {
    "collapsed": true
   },
   "outputs": [],
   "source": [
    "data_dir = '/Users/ellerywulczyn/translation-recs-app/data' # directory were the topic model data lives\n",
    "s = 'en' # source wiki\n",
    "t = 'it' # target wiki"
   ]
  },
  {
   "cell_type": "code",
   "execution_count": 4,
   "metadata": {
    "collapsed": false
   },
   "outputs": [],
   "source": [
    "tm = TopicModel(data_dir, s) # source language topic model"
   ]
  },
  {
   "cell_type": "code",
   "execution_count": 6,
   "metadata": {
    "collapsed": false
   },
   "outputs": [
    {
     "ename": "NameError",
     "evalue": "name 'tm' is not defined",
     "output_type": "error",
     "traceback": [
      "\u001b[0;31m---------------------------------------------------------------------------\u001b[0m",
      "\u001b[0;31mNameError\u001b[0m                                 Traceback (most recent call last)",
      "\u001b[0;32m<ipython-input-6-ebcae6d71e03>\u001b[0m in \u001b[0;36m<module>\u001b[0;34m()\u001b[0m\n\u001b[0;32m----> 1\u001b[0;31m \u001b[0mtr\u001b[0m \u001b[0;34m=\u001b[0m \u001b[0mLDATranslationRecommender\u001b[0m\u001b[0;34m(\u001b[0m\u001b[0mdata_dir\u001b[0m\u001b[0;34m,\u001b[0m \u001b[0ms\u001b[0m\u001b[0;34m,\u001b[0m \u001b[0mt\u001b[0m\u001b[0;34m,\u001b[0m \u001b[0mtm\u001b[0m\u001b[0;34m)\u001b[0m \u001b[0;31m# s->t missing article recommender\u001b[0m\u001b[0;34m\u001b[0m\u001b[0m\n\u001b[0m",
      "\u001b[0;31mNameError\u001b[0m: name 'tm' is not defined"
     ]
    }
   ],
   "source": [
    "tr = LDATranslationRecommender(data_dir, s, t, tm) # s->t missing article recommender"
   ]
  },
  {
   "cell_type": "markdown",
   "metadata": {},
   "source": [
    "# Get Personalized Recs"
   ]
  },
  {
   "cell_type": "code",
   "execution_count": 39,
   "metadata": {
    "collapsed": false
   },
   "outputs": [],
   "source": [
    "contribution_df = get_user_contributions('enwiki', 'DarTar', window = 15)"
   ]
  },
  {
   "cell_type": "code",
   "execution_count": 40,
   "metadata": {
    "collapsed": false
   },
   "outputs": [
    {
     "data": {
      "text/html": [
       "<div>\n",
       "<table border=\"1\" class=\"dataframe\">\n",
       "  <thead>\n",
       "    <tr style=\"text-align: right;\">\n",
       "      <th></th>\n",
       "      <th>bytes_added</th>\n",
       "      <th>page_id</th>\n",
       "      <th>page_title</th>\n",
       "      <th>timestamp</th>\n",
       "      <th>wikidata_id</th>\n",
       "    </tr>\n",
       "  </thead>\n",
       "  <tbody>\n",
       "    <tr>\n",
       "      <th>0</th>\n",
       "      <td>1317</td>\n",
       "      <td>8327348</td>\n",
       "      <td>Earthquake_warning_system</td>\n",
       "      <td>20150825052755</td>\n",
       "      <td>Q5327282</td>\n",
       "    </tr>\n",
       "    <tr>\n",
       "      <th>1</th>\n",
       "      <td>16</td>\n",
       "      <td>18197718</td>\n",
       "      <td>Earthquake_Early_Warning_(Japan)</td>\n",
       "      <td>20150825052429</td>\n",
       "      <td>Q1281628</td>\n",
       "    </tr>\n",
       "    <tr>\n",
       "      <th>2</th>\n",
       "      <td>85</td>\n",
       "      <td>60340</td>\n",
       "      <td>Bay_Area_Rapid_Transit</td>\n",
       "      <td>20150824023726</td>\n",
       "      <td>Q610120</td>\n",
       "    </tr>\n",
       "    <tr>\n",
       "      <th>3</th>\n",
       "      <td>3928</td>\n",
       "      <td>43645203</td>\n",
       "      <td>2014_South_Napa_earthquake</td>\n",
       "      <td>20150823171140</td>\n",
       "      <td>Q17602018</td>\n",
       "    </tr>\n",
       "    <tr>\n",
       "      <th>4</th>\n",
       "      <td>1888</td>\n",
       "      <td>43668436</td>\n",
       "      <td>Berkeley_Seismological_Laboratory</td>\n",
       "      <td>20150823161130</td>\n",
       "      <td>Q17985847</td>\n",
       "    </tr>\n",
       "    <tr>\n",
       "      <th>5</th>\n",
       "      <td>48</td>\n",
       "      <td>13961020</td>\n",
       "      <td>List_of_California_wildfires</td>\n",
       "      <td>20150802200740</td>\n",
       "      <td>Q6565566</td>\n",
       "    </tr>\n",
       "    <tr>\n",
       "      <th>6</th>\n",
       "      <td>2124</td>\n",
       "      <td>233983</td>\n",
       "      <td>Military_robot</td>\n",
       "      <td>20150728023916</td>\n",
       "      <td>Q1235833</td>\n",
       "    </tr>\n",
       "    <tr>\n",
       "      <th>7</th>\n",
       "      <td>770</td>\n",
       "      <td>5570834</td>\n",
       "      <td>Piazza_della_Loggia_bombing</td>\n",
       "      <td>20150723024515</td>\n",
       "      <td>Q3975758</td>\n",
       "    </tr>\n",
       "    <tr>\n",
       "      <th>8</th>\n",
       "      <td>223</td>\n",
       "      <td>1102205</td>\n",
       "      <td>Cascadia_subduction_zone</td>\n",
       "      <td>20150722033415</td>\n",
       "      <td>Q4024718</td>\n",
       "    </tr>\n",
       "    <tr>\n",
       "      <th>9</th>\n",
       "      <td>6</td>\n",
       "      <td>29919086</td>\n",
       "      <td>Aloe_haemanthifolia</td>\n",
       "      <td>20150715161459</td>\n",
       "      <td>Q143622</td>\n",
       "    </tr>\n",
       "    <tr>\n",
       "      <th>10</th>\n",
       "      <td>798</td>\n",
       "      <td>22351888</td>\n",
       "      <td>Irina_Bokova</td>\n",
       "      <td>20150522235454</td>\n",
       "      <td>Q230850</td>\n",
       "    </tr>\n",
       "    <tr>\n",
       "      <th>11</th>\n",
       "      <td>1092</td>\n",
       "      <td>46712804</td>\n",
       "      <td>Unite4Heritage</td>\n",
       "      <td>20150522235013</td>\n",
       "      <td>Q20050769</td>\n",
       "    </tr>\n",
       "  </tbody>\n",
       "</table>\n",
       "</div>"
      ],
      "text/plain": [
       "   bytes_added   page_id                         page_title       timestamp  \\\n",
       "0         1317   8327348          Earthquake_warning_system  20150825052755   \n",
       "1           16  18197718   Earthquake_Early_Warning_(Japan)  20150825052429   \n",
       "2           85     60340             Bay_Area_Rapid_Transit  20150824023726   \n",
       "3         3928  43645203         2014_South_Napa_earthquake  20150823171140   \n",
       "4         1888  43668436  Berkeley_Seismological_Laboratory  20150823161130   \n",
       "5           48  13961020       List_of_California_wildfires  20150802200740   \n",
       "6         2124    233983                     Military_robot  20150728023916   \n",
       "7          770   5570834        Piazza_della_Loggia_bombing  20150723024515   \n",
       "8          223   1102205           Cascadia_subduction_zone  20150722033415   \n",
       "9            6  29919086                Aloe_haemanthifolia  20150715161459   \n",
       "10         798  22351888                       Irina_Bokova  20150522235454   \n",
       "11        1092  46712804                     Unite4Heritage  20150522235013   \n",
       "\n",
       "   wikidata_id  \n",
       "0     Q5327282  \n",
       "1     Q1281628  \n",
       "2      Q610120  \n",
       "3    Q17602018  \n",
       "4    Q17985847  \n",
       "5     Q6565566  \n",
       "6     Q1235833  \n",
       "7     Q3975758  \n",
       "8     Q4024718  \n",
       "9      Q143622  \n",
       "10     Q230850  \n",
       "11   Q20050769  "
      ]
     },
     "execution_count": 40,
     "metadata": {},
     "output_type": "execute_result"
    }
   ],
   "source": [
    "contribution_df"
   ]
  },
  {
   "cell_type": "code",
   "execution_count": 42,
   "metadata": {
    "collapsed": false
   },
   "outputs": [
    {
     "data": {
      "text/plain": [
       "[{'pageviews': 10757,\n",
       "  'title': 'Tsunami_warning_system',\n",
       "  'wikidata_id': 'Q2744117'},\n",
       " {'pageviews': 6889,\n",
       "  'title': 'Earthquake_warning_system',\n",
       "  'wikidata_id': 'Q5327282'},\n",
       " {'pageviews': 1965,\n",
       "  'title': 'Indian_Ocean_Tsunami_Warning_System',\n",
       "  'wikidata_id': 'Q3509205'},\n",
       " {'pageviews': 302, 'title': 'Smith_Dharmasaroja', 'wikidata_id': 'Q7545126'},\n",
       " {'pageviews': 143,\n",
       "  'title': 'Berkeley_Seismological_Laboratory',\n",
       "  'wikidata_id': 'Q17985847'},\n",
       " {'pageviews': 196,\n",
       "  'title': 'California_Earthquake_Prediction_Evaluation_Council',\n",
       "  'wikidata_id': 'Q5020464'},\n",
       " {'pageviews': 542,\n",
       "  'title': 'National_Tsunami_Warning_Center',\n",
       "  'wikidata_id': 'Q7984847'},\n",
       " {'pageviews': 1974,\n",
       "  'title': 'Timeline_of_the_2004_Indian_Ocean_earthquake',\n",
       "  'wikidata_id': 'Q7806246'},\n",
       " {'pageviews': 424,\n",
       "  'title': 'California_landslides',\n",
       "  'wikidata_id': 'Q5021271'},\n",
       " {'pageviews': 200,\n",
       "  'title': 'CIA_transnational_health_and_economic_activities',\n",
       "  'wikidata_id': 'Q5011559'}]"
      ]
     },
     "execution_count": 42,
     "metadata": {},
     "output_type": "execute_result"
    }
   ],
   "source": [
    "tr.get_user_recommendations(contribution_df, num_recs=10, min_score=0.0)"
   ]
  },
  {
   "cell_type": "markdown",
   "metadata": {},
   "source": [
    "# Most Viewed Missing Articles"
   ]
  },
  {
   "cell_type": "code",
   "execution_count": 43,
   "metadata": {
    "collapsed": false
   },
   "outputs": [
    {
     "data": {
      "text/plain": [
       "[{'pageviews': 3795620,\n",
       "  'title': 'Directoire_style',\n",
       "  'wikidata_id': 'Q1227514'},\n",
       " {'pageviews': 3287042,\n",
       "  'title': 'Bajrangi_Bhaijaan',\n",
       "  'wikidata_id': 'Q18603021'},\n",
       " {'pageviews': 2558218,\n",
       "  'title': 'Suicide_Squad_(film)',\n",
       "  'wikidata_id': 'Q18604504'},\n",
       " {'pageviews': 2087343, 'title': '2015_in_film', 'wikidata_id': 'Q13553713'},\n",
       " {'pageviews': 1667859,\n",
       "  'title': 'Battleground_(2015)',\n",
       "  'wikidata_id': 'Q18890191'},\n",
       " {'pageviews': 1653919,\n",
       "  'title': '2014–15_English_Premiership_(rugby_union)',\n",
       "  'wikidata_id': 'Q17101036'},\n",
       " {'pageviews': 1420741,\n",
       "  'title': 'Bobbi_Kristina_Brown',\n",
       "  'wikidata_id': 'Q18951229'},\n",
       " {'pageviews': 1404357, 'title': 'Dan_Bilzerian', 'wikidata_id': 'Q16199296'},\n",
       " {'pageviews': 1351601, 'title': 'Fetty_Wap', 'wikidata_id': 'Q19361511'},\n",
       " {'pageviews': 1321719, 'title': 'Ramadan', 'wikidata_id': 'Q41662'}]"
      ]
     },
     "execution_count": 43,
     "metadata": {},
     "output_type": "execute_result"
    }
   ],
   "source": [
    "tr.get_global_recommendations(num_recs = 10)"
   ]
  },
  {
   "cell_type": "markdown",
   "metadata": {},
   "source": [
    "# Get Seeded Recommendations"
   ]
  },
  {
   "cell_type": "code",
   "execution_count": 44,
   "metadata": {
    "collapsed": false
   },
   "outputs": [
    {
     "data": {
      "text/plain": [
       "[{'pageviews': 2167, 'title': 'Bosutinib', 'wikidata_id': 'Q894611'},\n",
       " {'pageviews': 272, 'title': 'Bovine_coronavirus', 'wikidata_id': 'Q4950554'},\n",
       " {'pageviews': 195, 'title': 'Sacrosidase', 'wikidata_id': 'Q7397389'},\n",
       " {'pageviews': 6109, 'title': 'Insulin_lispro', 'wikidata_id': 'Q3492616'},\n",
       " {'pageviews': 470, 'title': 'Alicaforsen', 'wikidata_id': 'Q17147922'},\n",
       " {'pageviews': 19576,\n",
       "  'title': 'Hypervitaminosis_A',\n",
       "  'wikidata_id': 'Q3100515'},\n",
       " {'pageviews': 586, 'title': 'Beractant', 'wikidata_id': 'Q4890968'},\n",
       " {'pageviews': 308, 'title': 'Cicletanine', 'wikidata_id': 'Q5119443'},\n",
       " {'pageviews': 1411, 'title': 'Streptococcus_suis', 'wikidata_id': 'Q287694'},\n",
       " {'pageviews': 9609, 'title': 'Benfotiamine', 'wikidata_id': 'Q409953'}]"
      ]
     },
     "execution_count": 44,
     "metadata": {},
     "output_type": "execute_result"
    }
   ],
   "source": [
    "tr.get_seeded_recommendations( 'Ebola_virus_disease', num_recs=10, min_score=0.1)"
   ]
  },
  {
   "cell_type": "code",
   "execution_count": 45,
   "metadata": {
    "collapsed": false
   },
   "outputs": [
    {
     "data": {
      "text/plain": [
       "[{'pageviews': 209, 'title': 'Halocin', 'wikidata_id': 'Q5643356'},\n",
       " {'pageviews': 1612, 'title': 'Phenome', 'wikidata_id': 'Q844116'},\n",
       " {'pageviews': 1240, 'title': 'Weismann_barrier', 'wikidata_id': 'Q1883991'},\n",
       " {'pageviews': 1964,\n",
       "  'title': 'Common_misunderstandings_of_genetics',\n",
       "  'wikidata_id': 'Q5153572'},\n",
       " {'pageviews': 351, 'title': 'Chemoton', 'wikidata_id': 'Q1106696'},\n",
       " {'pageviews': 655,\n",
       "  'title': 'History_of_model_organisms',\n",
       "  'wikidata_id': 'Q5868220'},\n",
       " {'pageviews': 556, 'title': '2R_hypothesis', 'wikidata_id': 'Q4633212'},\n",
       " {'pageviews': 844, 'title': 'Two-empire_system', 'wikidata_id': 'Q3324187'},\n",
       " {'pageviews': 10017,\n",
       "  'title': 'Genotype-phenotype_distinction',\n",
       "  'wikidata_id': 'Q5533517'},\n",
       " {'pageviews': 269, 'title': 'Jan_Klein', 'wikidata_id': 'Q822241'}]"
      ]
     },
     "execution_count": 45,
     "metadata": {},
     "output_type": "execute_result"
    }
   ],
   "source": [
    "tr.get_seeded_recommendations( 'Biology', num_recs=10, min_score=0.1)"
   ]
  },
  {
   "cell_type": "code",
   "execution_count": 46,
   "metadata": {
    "collapsed": false
   },
   "outputs": [
    {
     "data": {
      "text/plain": [
       "[{'pageviews': 58024, 'title': 'Pad_Thai', 'wikidata_id': 'Q730298'},\n",
       " {'pageviews': 4071, 'title': 'Nam_phrik', 'wikidata_id': 'Q4922876'},\n",
       " {'pageviews': 918, 'title': 'Nam_khao', 'wikidata_id': 'Q6961172'},\n",
       " {'pageviews': 2158, 'title': 'Nam_tok_(food)', 'wikidata_id': 'Q4923638'},\n",
       " {'pageviews': 522, 'title': 'Bánh_pía', 'wikidata_id': 'Q5004807'},\n",
       " {'pageviews': 5015, 'title': 'Thai_fried_rice', 'wikidata_id': 'Q4922489'},\n",
       " {'pageviews': 8795, 'title': 'Lao_cuisine', 'wikidata_id': 'Q1372774'},\n",
       " {'pageviews': 10070, 'title': 'Larb', 'wikidata_id': 'Q3052288'},\n",
       " {'pageviews': 1057, 'title': 'Nam_ngiao', 'wikidata_id': 'Q130194'},\n",
       " {'pageviews': 557, 'title': 'Ohn_no_khao_swè', 'wikidata_id': 'Q7081117'}]"
      ]
     },
     "execution_count": 46,
     "metadata": {},
     "output_type": "execute_result"
    }
   ],
   "source": [
    "tr.get_seeded_recommendations( 'Pad_Thai', num_recs=10, min_score=0.1)"
   ]
  },
  {
   "cell_type": "code",
   "execution_count": 47,
   "metadata": {
    "collapsed": false
   },
   "outputs": [
    {
     "data": {
      "text/plain": [
       "[{'pageviews': 9764, 'title': 'Mama_(TV_series)', 'wikidata_id': 'Q17099706'},\n",
       " {'pageviews': 61318, 'title': 'Jessa_Duggar', 'wikidata_id': 'Q19282024'},\n",
       " {'pageviews': 872, 'title': 'Jerry_Lester', 'wikidata_id': 'Q19319436'},\n",
       " {'pageviews': 10725, 'title': 'Garry_Moore', 'wikidata_id': 'Q4354677'},\n",
       " {'pageviews': 598, 'title': 'Rich_Jeffries', 'wikidata_id': 'Q7323309'},\n",
       " {'pageviews': 441, 'title': 'John_Aylesworth', 'wikidata_id': 'Q3180955'},\n",
       " {'pageviews': 463, 'title': 'Ira_Skutch', 'wikidata_id': 'Q20065034'},\n",
       " {'pageviews': 926, 'title': 'Freda_Wright-Sorce', 'wikidata_id': 'Q5496664'},\n",
       " {'pageviews': 429, 'title': 'Eddie_Hubbard', 'wikidata_id': 'Q5336137'},\n",
       " {'pageviews': 387, 'title': 'Rasha_Drachkovitch', 'wikidata_id': 'Q7294766'}]"
      ]
     },
     "execution_count": 47,
     "metadata": {},
     "output_type": "execute_result"
    }
   ],
   "source": [
    "tr.get_seeded_recommendations( 'Red_Skelton', num_recs=10, min_score=0.1)"
   ]
  },
  {
   "cell_type": "code",
   "execution_count": 48,
   "metadata": {
    "collapsed": false
   },
   "outputs": [
    {
     "data": {
      "text/plain": [
       "[{'pageviews': 209, 'title': 'Halocin', 'wikidata_id': 'Q5643356'},\n",
       " {'pageviews': 1612, 'title': 'Phenome', 'wikidata_id': 'Q844116'},\n",
       " {'pageviews': 1240, 'title': 'Weismann_barrier', 'wikidata_id': 'Q1883991'},\n",
       " {'pageviews': 1964,\n",
       "  'title': 'Common_misunderstandings_of_genetics',\n",
       "  'wikidata_id': 'Q5153572'},\n",
       " {'pageviews': 351, 'title': 'Chemoton', 'wikidata_id': 'Q1106696'},\n",
       " {'pageviews': 655,\n",
       "  'title': 'History_of_model_organisms',\n",
       "  'wikidata_id': 'Q5868220'},\n",
       " {'pageviews': 556, 'title': '2R_hypothesis', 'wikidata_id': 'Q4633212'},\n",
       " {'pageviews': 844, 'title': 'Two-empire_system', 'wikidata_id': 'Q3324187'},\n",
       " {'pageviews': 10017,\n",
       "  'title': 'Genotype-phenotype_distinction',\n",
       "  'wikidata_id': 'Q5533517'},\n",
       " {'pageviews': 269, 'title': 'Jan_Klein', 'wikidata_id': 'Q822241'}]"
      ]
     },
     "execution_count": 48,
     "metadata": {},
     "output_type": "execute_result"
    }
   ],
   "source": [
    "tr.get_seeded_recommendations( 'Biology', num_recs=10, min_score=0.1)"
   ]
  },
  {
   "cell_type": "code",
   "execution_count": 49,
   "metadata": {
    "collapsed": false
   },
   "outputs": [
    {
     "data": {
      "text/plain": [
       "[{'pageviews': 2200,\n",
       "  'title': 'Existentialist_anarchism',\n",
       "  'wikidata_id': 'Q5420363'},\n",
       " {'pageviews': 943, 'title': 'Politics_of_Nature', 'wikidata_id': 'Q3395235'},\n",
       " {'pageviews': 293,\n",
       "  'title': 'The_Right_to_Be_Greedy',\n",
       "  'wikidata_id': 'Q7760769'},\n",
       " {'pageviews': 261,\n",
       "  'title': 'The_Ecology_of_Freedom',\n",
       "  'wikidata_id': 'Q18207980'},\n",
       " {'pageviews': 2969,\n",
       "  'title': 'Influences_on_Karl_Marx',\n",
       "  'wikidata_id': 'Q6030251'},\n",
       " {'pageviews': 366,\n",
       "  'title': 'Philosophy_and_Real_Politics',\n",
       "  'wikidata_id': 'Q7186224'},\n",
       " {'pageviews': 3745, 'title': 'Transcendentals', 'wikidata_id': 'Q1432095'},\n",
       " {'pageviews': 249, 'title': 'Epistemocracy', 'wikidata_id': 'Q5383596'},\n",
       " {'pageviews': 967,\n",
       "  'title': 'Liberalism_and_the_Limits_of_Justice',\n",
       "  'wikidata_id': 'Q6540882'},\n",
       " {'pageviews': 4064, 'title': 'Post-left_anarchy', 'wikidata_id': 'Q2574500'}]"
      ]
     },
     "execution_count": 49,
     "metadata": {},
     "output_type": "execute_result"
    }
   ],
   "source": [
    "tr.get_seeded_recommendations( 'Individualism', num_recs=10, min_score=0.1)"
   ]
  },
  {
   "cell_type": "code",
   "execution_count": null,
   "metadata": {
    "collapsed": true
   },
   "outputs": [],
   "source": []
  }
 ],
 "metadata": {
  "kernelspec": {
   "display_name": "Python 3",
   "language": "python",
   "name": "python3"
  },
  "language_info": {
   "codemirror_mode": {
    "name": "ipython",
    "version": 3
   },
   "file_extension": ".py",
   "mimetype": "text/x-python",
   "name": "python",
   "nbconvert_exporter": "python",
   "pygments_lexer": "ipython3",
   "version": "3.4.3"
  }
 },
 "nbformat": 4,
 "nbformat_minor": 0
}
