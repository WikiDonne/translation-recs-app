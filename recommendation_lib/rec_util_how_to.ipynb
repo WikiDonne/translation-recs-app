{
 "cells": [
  {
   "cell_type": "code",
   "execution_count": 43,
   "metadata": {
    "collapsed": false
   },
   "outputs": [
    {
     "name": "stdout",
     "output_type": "stream",
     "text": [
      "The autoreload extension is already loaded. To reload it, use:\n",
      "  %reload_ext autoreload\n"
     ]
    }
   ],
   "source": [
    "%load_ext autoreload\n",
    "%autoreload\n",
    "\n",
    "\n",
    "#import inspect, os\n",
    "#currentdir = os.path.dirname(os.path.abspath(inspect.getfile(inspect.currentframe())))\n",
    "#parentdir = os.path.dirname(currentdir)\n",
    "#os.sys.path.insert(0,parentdir)\n",
    "\n",
    "#from api.db_util import *\n",
    "from rec_util import TopicModel, LDATranslationRecommender, SearchTranslationRecommender"
   ]
  },
  {
   "cell_type": "markdown",
   "metadata": {},
   "source": [
    "# Search Recommender"
   ]
  },
  {
   "cell_type": "code",
   "execution_count": 37,
   "metadata": {
    "collapsed": true
   },
   "outputs": [],
   "source": [
    "data_dir = '/Users/ellerywulczyn/translation-recs-app/data' # directory were the topic model data lives\n",
    "s = 'en' # source wiki\n",
    "t = 'it' # target wiki"
   ]
  },
  {
   "cell_type": "code",
   "execution_count": 38,
   "metadata": {
    "collapsed": false
   },
   "outputs": [],
   "source": [
    "tr = SearchTranslationRecommender(data_dir, s, t) # s->t missing article recommender"
   ]
  },
  {
   "cell_type": "code",
   "execution_count": 40,
   "metadata": {
    "collapsed": false
   },
   "outputs": [
    {
     "data": {
      "text/plain": [
       "False"
      ]
     },
     "execution_count": 40,
     "metadata": {},
     "output_type": "execute_result"
    }
   ],
   "source": [
    "'Albert_Einstein' in tr.missing_df.index"
   ]
  },
  {
   "cell_type": "code",
   "execution_count": 44,
   "metadata": {
    "collapsed": false
   },
   "outputs": [
    {
     "data": {
      "text/plain": [
       "[{'pageviews': 27321,\n",
       "  'title': \"Albert_Einstein's_brain\",\n",
       "  'wikidata_id': 'Q2464312'},\n",
       " {'pageviews': 23986, 'title': 'Einstein_family', 'wikidata_id': 'Q3292175'},\n",
       " {'pageviews': 20103, 'title': 'Eduard_Einstein', 'wikidata_id': 'Q118253'},\n",
       " {'pageviews': 13444,\n",
       "  'title': 'Bernhard_Caesar_Einstein',\n",
       "  'wikidata_id': 'Q824855'},\n",
       " {'pageviews': 7768,\n",
       "  'title': 'Albert_Einstein_College_of_Medicine',\n",
       "  'wikidata_id': 'Q2030894'},\n",
       " {'pageviews': 5131, 'title': 'Evelyn_Einstein', 'wikidata_id': 'Q432375'},\n",
       " {'pageviews': 4976,\n",
       "  'title': 'Political_views_of_Albert_Einstein',\n",
       "  'wikidata_id': 'Q4710118'},\n",
       " {'pageviews': 4446,\n",
       "  'title': 'Albert_Einstein_in_popular_culture',\n",
       "  'wikidata_id': 'Q4710136'},\n",
       " {'pageviews': 4269, 'title': 'Why_Socialism?', 'wikidata_id': 'Q3400616'},\n",
       " {'pageviews': 3612,\n",
       "  'title': 'Albert_Einstein_Award',\n",
       "  'wikidata_id': 'Q577432'},\n",
       " {'pageviews': 2547,\n",
       "  'title': 'Albert_Einstein_House',\n",
       "  'wikidata_id': 'Q4710127'},\n",
       " {'pageviews': 2265,\n",
       "  'title': \"Einstein's_awards_and_honors\",\n",
       "  'wikidata_id': 'Q5349781'},\n",
       " {'pageviews': 1785, 'title': 'Robert_Weinberg', 'wikidata_id': 'Q701506'},\n",
       " {'pageviews': 1707,\n",
       "  'title': 'Albert_Einstein_Memorial',\n",
       "  'wikidata_id': 'Q2402570'},\n",
       " {'pageviews': 1622,\n",
       "  'title': 'Albert_Einstein_World_Award_of_Science',\n",
       "  'wikidata_id': 'Q1287930'},\n",
       " {'pageviews': 1552,\n",
       "  'title': 'The_World_as_I_See_It_(book)',\n",
       "  'wikidata_id': 'Q2986155'},\n",
       " {'pageviews': 911,\n",
       "  'title': 'Einstein_Papers_Project',\n",
       "  'wikidata_id': 'Q5349792'},\n",
       " {'pageviews': 877,\n",
       "  'title': 'Einstein_Medical_Center',\n",
       "  'wikidata_id': 'Q4710134'},\n",
       " {'pageviews': 823,\n",
       "  'title': 'Albert_Einstein_Hospital',\n",
       "  'wikidata_id': 'Q1630439'},\n",
       " {'pageviews': 795,\n",
       "  'title': 'Albert_Einstein_High_School',\n",
       "  'wikidata_id': 'Q4710126'},\n",
       " {'pageviews': 666, 'title': 'Einstein_Prize_(APS)', 'wikidata_id': 'Q337789'},\n",
       " {'pageviews': 576,\n",
       "  'title': 'Albert_Einstein_Peace_Prize',\n",
       "  'wikidata_id': 'Q1670676'},\n",
       " {'pageviews': 506, 'title': 'Einsteinhaus', 'wikidata_id': 'Q390003'},\n",
       " {'pageviews': 454,\n",
       "  'title': 'Albert_Einstein_Institution',\n",
       "  'wikidata_id': 'Q2831153'},\n",
       " {'pageviews': 422,\n",
       "  'title': 'Max_Planck_Institute_for_Gravitational_Physics',\n",
       "  'wikidata_id': 'Q2778415'},\n",
       " {'pageviews': 291, 'title': 'Einstein_(surname)', 'wikidata_id': 'Q16834800'},\n",
       " {'pageviews': 231,\n",
       "  'title': 'Albert_Einstein_Science_Park',\n",
       "  'wikidata_id': 'Q1609378'},\n",
       " {'pageviews': 224,\n",
       "  'title': 'Albert_Einstein_Academy_Charter_School',\n",
       "  'wikidata_id': 'Q4710123'},\n",
       " {'pageviews': 213,\n",
       "  'title': 'Albert_Einstein_Society',\n",
       "  'wikidata_id': 'Q2904913'},\n",
       " {'pageviews': 132,\n",
       "  'title': 'Albert_Einstein_International_School_Amsterdam',\n",
       "  'wikidata_id': 'Q4710130'}]"
      ]
     },
     "execution_count": 44,
     "metadata": {},
     "output_type": "execute_result"
    }
   ],
   "source": [
    "tr.get_seeded_recommendations('albert einstein', num_recs=100)"
   ]
  },
  {
   "cell_type": "markdown",
   "metadata": {},
   "source": [
    "# Load Models"
   ]
  },
  {
   "cell_type": "code",
   "execution_count": 5,
   "metadata": {
    "collapsed": true
   },
   "outputs": [],
   "source": [
    "data_dir = '/Users/ellerywulczyn/translation-recs-app/data' # directory were the topic model data lives\n",
    "s = 'en' # source wiki\n",
    "t = 'it' # target wiki"
   ]
  },
  {
   "cell_type": "code",
   "execution_count": 4,
   "metadata": {
    "collapsed": false
   },
   "outputs": [],
   "source": [
    "tm = TopicModel(data_dir, s) # source language topic model"
   ]
  },
  {
   "cell_type": "code",
   "execution_count": 6,
   "metadata": {
    "collapsed": false
   },
   "outputs": [
    {
     "ename": "NameError",
     "evalue": "name 'tm' is not defined",
     "output_type": "error",
     "traceback": [
      "\u001b[0;31m---------------------------------------------------------------------------\u001b[0m",
      "\u001b[0;31mNameError\u001b[0m                                 Traceback (most recent call last)",
      "\u001b[0;32m<ipython-input-6-ebcae6d71e03>\u001b[0m in \u001b[0;36m<module>\u001b[0;34m()\u001b[0m\n\u001b[0;32m----> 1\u001b[0;31m \u001b[0mtr\u001b[0m \u001b[0;34m=\u001b[0m \u001b[0mLDATranslationRecommender\u001b[0m\u001b[0;34m(\u001b[0m\u001b[0mdata_dir\u001b[0m\u001b[0;34m,\u001b[0m \u001b[0ms\u001b[0m\u001b[0;34m,\u001b[0m \u001b[0mt\u001b[0m\u001b[0;34m,\u001b[0m \u001b[0mtm\u001b[0m\u001b[0;34m)\u001b[0m \u001b[0;31m# s->t missing article recommender\u001b[0m\u001b[0;34m\u001b[0m\u001b[0m\n\u001b[0m",
      "\u001b[0;31mNameError\u001b[0m: name 'tm' is not defined"
     ]
    }
   ],
   "source": [
    "tr = LDATranslationRecommender(data_dir, s, t, tm) # s->t missing article recommender"
   ]
  },
  {
   "cell_type": "markdown",
   "metadata": {},
   "source": [
    "# Get Personalized Recs"
   ]
  },
  {
   "cell_type": "code",
   "execution_count": 39,
   "metadata": {
    "collapsed": false
   },
   "outputs": [],
   "source": [
    "contribution_df = get_user_contributions('enwiki', 'DarTar', window = 15)"
   ]
  },
  {
   "cell_type": "code",
   "execution_count": 40,
   "metadata": {
    "collapsed": false
   },
   "outputs": [
    {
     "data": {
      "text/html": [
       "<div>\n",
       "<table border=\"1\" class=\"dataframe\">\n",
       "  <thead>\n",
       "    <tr style=\"text-align: right;\">\n",
       "      <th></th>\n",
       "      <th>bytes_added</th>\n",
       "      <th>page_id</th>\n",
       "      <th>page_title</th>\n",
       "      <th>timestamp</th>\n",
       "      <th>wikidata_id</th>\n",
       "    </tr>\n",
       "  </thead>\n",
       "  <tbody>\n",
       "    <tr>\n",
       "      <th>0</th>\n",
       "      <td>1317</td>\n",
       "      <td>8327348</td>\n",
       "      <td>Earthquake_warning_system</td>\n",
       "      <td>20150825052755</td>\n",
       "      <td>Q5327282</td>\n",
       "    </tr>\n",
       "    <tr>\n",
       "      <th>1</th>\n",
       "      <td>16</td>\n",
       "      <td>18197718</td>\n",
       "      <td>Earthquake_Early_Warning_(Japan)</td>\n",
       "      <td>20150825052429</td>\n",
       "      <td>Q1281628</td>\n",
       "    </tr>\n",
       "    <tr>\n",
       "      <th>2</th>\n",
       "      <td>85</td>\n",
       "      <td>60340</td>\n",
       "      <td>Bay_Area_Rapid_Transit</td>\n",
       "      <td>20150824023726</td>\n",
       "      <td>Q610120</td>\n",
       "    </tr>\n",
       "    <tr>\n",
       "      <th>3</th>\n",
       "      <td>3928</td>\n",
       "      <td>43645203</td>\n",
       "      <td>2014_South_Napa_earthquake</td>\n",
       "      <td>20150823171140</td>\n",
       "      <td>Q17602018</td>\n",
       "    </tr>\n",
       "    <tr>\n",
       "      <th>4</th>\n",
       "      <td>1888</td>\n",
       "      <td>43668436</td>\n",
       "      <td>Berkeley_Seismological_Laboratory</td>\n",
       "      <td>20150823161130</td>\n",
       "      <td>Q17985847</td>\n",
       "    </tr>\n",
       "    <tr>\n",
       "      <th>5</th>\n",
       "      <td>48</td>\n",
       "      <td>13961020</td>\n",
       "      <td>List_of_California_wildfires</td>\n",
       "      <td>20150802200740</td>\n",
       "      <td>Q6565566</td>\n",
       "    </tr>\n",
       "    <tr>\n",
       "      <th>6</th>\n",
       "      <td>2124</td>\n",
       "      <td>233983</td>\n",
       "      <td>Military_robot</td>\n",
       "      <td>20150728023916</td>\n",
       "      <td>Q1235833</td>\n",
       "    </tr>\n",
       "    <tr>\n",
       "      <th>7</th>\n",
       "      <td>770</td>\n",
       "      <td>5570834</td>\n",
       "      <td>Piazza_della_Loggia_bombing</td>\n",
       "      <td>20150723024515</td>\n",
       "      <td>Q3975758</td>\n",
       "    </tr>\n",
       "    <tr>\n",
       "      <th>8</th>\n",
       "      <td>223</td>\n",
       "      <td>1102205</td>\n",
       "      <td>Cascadia_subduction_zone</td>\n",
       "      <td>20150722033415</td>\n",
       "      <td>Q4024718</td>\n",
       "    </tr>\n",
       "    <tr>\n",
       "      <th>9</th>\n",
       "      <td>6</td>\n",
       "      <td>29919086</td>\n",
       "      <td>Aloe_haemanthifolia</td>\n",
       "      <td>20150715161459</td>\n",
       "      <td>Q143622</td>\n",
       "    </tr>\n",
       "    <tr>\n",
       "      <th>10</th>\n",
       "      <td>798</td>\n",
       "      <td>22351888</td>\n",
       "      <td>Irina_Bokova</td>\n",
       "      <td>20150522235454</td>\n",
       "      <td>Q230850</td>\n",
       "    </tr>\n",
       "    <tr>\n",
       "      <th>11</th>\n",
       "      <td>1092</td>\n",
       "      <td>46712804</td>\n",
       "      <td>Unite4Heritage</td>\n",
       "      <td>20150522235013</td>\n",
       "      <td>Q20050769</td>\n",
       "    </tr>\n",
       "  </tbody>\n",
       "</table>\n",
       "</div>"
      ],
      "text/plain": [
       "   bytes_added   page_id                         page_title       timestamp  \\\n",
       "0         1317   8327348          Earthquake_warning_system  20150825052755   \n",
       "1           16  18197718   Earthquake_Early_Warning_(Japan)  20150825052429   \n",
       "2           85     60340             Bay_Area_Rapid_Transit  20150824023726   \n",
       "3         3928  43645203         2014_South_Napa_earthquake  20150823171140   \n",
       "4         1888  43668436  Berkeley_Seismological_Laboratory  20150823161130   \n",
       "5           48  13961020       List_of_California_wildfires  20150802200740   \n",
       "6         2124    233983                     Military_robot  20150728023916   \n",
       "7          770   5570834        Piazza_della_Loggia_bombing  20150723024515   \n",
       "8          223   1102205           Cascadia_subduction_zone  20150722033415   \n",
       "9            6  29919086                Aloe_haemanthifolia  20150715161459   \n",
       "10         798  22351888                       Irina_Bokova  20150522235454   \n",
       "11        1092  46712804                     Unite4Heritage  20150522235013   \n",
       "\n",
       "   wikidata_id  \n",
       "0     Q5327282  \n",
       "1     Q1281628  \n",
       "2      Q610120  \n",
       "3    Q17602018  \n",
       "4    Q17985847  \n",
       "5     Q6565566  \n",
       "6     Q1235833  \n",
       "7     Q3975758  \n",
       "8     Q4024718  \n",
       "9      Q143622  \n",
       "10     Q230850  \n",
       "11   Q20050769  "
      ]
     },
     "execution_count": 40,
     "metadata": {},
     "output_type": "execute_result"
    }
   ],
   "source": [
    "contribution_df"
   ]
  },
  {
   "cell_type": "code",
   "execution_count": 42,
   "metadata": {
    "collapsed": false
   },
   "outputs": [
    {
     "data": {
      "text/plain": [
       "[{'pageviews': 10757,\n",
       "  'title': 'Tsunami_warning_system',\n",
       "  'wikidata_id': 'Q2744117'},\n",
       " {'pageviews': 6889,\n",
       "  'title': 'Earthquake_warning_system',\n",
       "  'wikidata_id': 'Q5327282'},\n",
       " {'pageviews': 1965,\n",
       "  'title': 'Indian_Ocean_Tsunami_Warning_System',\n",
       "  'wikidata_id': 'Q3509205'},\n",
       " {'pageviews': 302, 'title': 'Smith_Dharmasaroja', 'wikidata_id': 'Q7545126'},\n",
       " {'pageviews': 143,\n",
       "  'title': 'Berkeley_Seismological_Laboratory',\n",
       "  'wikidata_id': 'Q17985847'},\n",
       " {'pageviews': 196,\n",
       "  'title': 'California_Earthquake_Prediction_Evaluation_Council',\n",
       "  'wikidata_id': 'Q5020464'},\n",
       " {'pageviews': 542,\n",
       "  'title': 'National_Tsunami_Warning_Center',\n",
       "  'wikidata_id': 'Q7984847'},\n",
       " {'pageviews': 1974,\n",
       "  'title': 'Timeline_of_the_2004_Indian_Ocean_earthquake',\n",
       "  'wikidata_id': 'Q7806246'},\n",
       " {'pageviews': 424,\n",
       "  'title': 'California_landslides',\n",
       "  'wikidata_id': 'Q5021271'},\n",
       " {'pageviews': 200,\n",
       "  'title': 'CIA_transnational_health_and_economic_activities',\n",
       "  'wikidata_id': 'Q5011559'}]"
      ]
     },
     "execution_count": 42,
     "metadata": {},
     "output_type": "execute_result"
    }
   ],
   "source": [
    "tr.get_user_recommendations(contribution_df, num_recs=10, min_score=0.0)"
   ]
  },
  {
   "cell_type": "markdown",
   "metadata": {},
   "source": [
    "# Most Viewed Missing Articles"
   ]
  },
  {
   "cell_type": "code",
   "execution_count": 43,
   "metadata": {
    "collapsed": false
   },
   "outputs": [
    {
     "data": {
      "text/plain": [
       "[{'pageviews': 3795620,\n",
       "  'title': 'Directoire_style',\n",
       "  'wikidata_id': 'Q1227514'},\n",
       " {'pageviews': 3287042,\n",
       "  'title': 'Bajrangi_Bhaijaan',\n",
       "  'wikidata_id': 'Q18603021'},\n",
       " {'pageviews': 2558218,\n",
       "  'title': 'Suicide_Squad_(film)',\n",
       "  'wikidata_id': 'Q18604504'},\n",
       " {'pageviews': 2087343, 'title': '2015_in_film', 'wikidata_id': 'Q13553713'},\n",
       " {'pageviews': 1667859,\n",
       "  'title': 'Battleground_(2015)',\n",
       "  'wikidata_id': 'Q18890191'},\n",
       " {'pageviews': 1653919,\n",
       "  'title': '2014–15_English_Premiership_(rugby_union)',\n",
       "  'wikidata_id': 'Q17101036'},\n",
       " {'pageviews': 1420741,\n",
       "  'title': 'Bobbi_Kristina_Brown',\n",
       "  'wikidata_id': 'Q18951229'},\n",
       " {'pageviews': 1404357, 'title': 'Dan_Bilzerian', 'wikidata_id': 'Q16199296'},\n",
       " {'pageviews': 1351601, 'title': 'Fetty_Wap', 'wikidata_id': 'Q19361511'},\n",
       " {'pageviews': 1321719, 'title': 'Ramadan', 'wikidata_id': 'Q41662'}]"
      ]
     },
     "execution_count": 43,
     "metadata": {},
     "output_type": "execute_result"
    }
   ],
   "source": [
    "tr.get_global_recommendations(num_recs = 10)"
   ]
  },
  {
   "cell_type": "markdown",
   "metadata": {},
   "source": [
    "# Get Seeded Recommendations"
   ]
  },
  {
   "cell_type": "code",
   "execution_count": 44,
   "metadata": {
    "collapsed": false
   },
   "outputs": [
    {
     "data": {
      "text/plain": [
       "[{'pageviews': 2167, 'title': 'Bosutinib', 'wikidata_id': 'Q894611'},\n",
       " {'pageviews': 272, 'title': 'Bovine_coronavirus', 'wikidata_id': 'Q4950554'},\n",
       " {'pageviews': 195, 'title': 'Sacrosidase', 'wikidata_id': 'Q7397389'},\n",
       " {'pageviews': 6109, 'title': 'Insulin_lispro', 'wikidata_id': 'Q3492616'},\n",
       " {'pageviews': 470, 'title': 'Alicaforsen', 'wikidata_id': 'Q17147922'},\n",
       " {'pageviews': 19576,\n",
       "  'title': 'Hypervitaminosis_A',\n",
       "  'wikidata_id': 'Q3100515'},\n",
       " {'pageviews': 586, 'title': 'Beractant', 'wikidata_id': 'Q4890968'},\n",
       " {'pageviews': 308, 'title': 'Cicletanine', 'wikidata_id': 'Q5119443'},\n",
       " {'pageviews': 1411, 'title': 'Streptococcus_suis', 'wikidata_id': 'Q287694'},\n",
       " {'pageviews': 9609, 'title': 'Benfotiamine', 'wikidata_id': 'Q409953'}]"
      ]
     },
     "execution_count": 44,
     "metadata": {},
     "output_type": "execute_result"
    }
   ],
   "source": [
    "tr.get_seeded_recommendations( 'Ebola_virus_disease', num_recs=10, min_score=0.1)"
   ]
  },
  {
   "cell_type": "code",
   "execution_count": 45,
   "metadata": {
    "collapsed": false
   },
   "outputs": [
    {
     "data": {
      "text/plain": [
       "[{'pageviews': 209, 'title': 'Halocin', 'wikidata_id': 'Q5643356'},\n",
       " {'pageviews': 1612, 'title': 'Phenome', 'wikidata_id': 'Q844116'},\n",
       " {'pageviews': 1240, 'title': 'Weismann_barrier', 'wikidata_id': 'Q1883991'},\n",
       " {'pageviews': 1964,\n",
       "  'title': 'Common_misunderstandings_of_genetics',\n",
       "  'wikidata_id': 'Q5153572'},\n",
       " {'pageviews': 351, 'title': 'Chemoton', 'wikidata_id': 'Q1106696'},\n",
       " {'pageviews': 655,\n",
       "  'title': 'History_of_model_organisms',\n",
       "  'wikidata_id': 'Q5868220'},\n",
       " {'pageviews': 556, 'title': '2R_hypothesis', 'wikidata_id': 'Q4633212'},\n",
       " {'pageviews': 844, 'title': 'Two-empire_system', 'wikidata_id': 'Q3324187'},\n",
       " {'pageviews': 10017,\n",
       "  'title': 'Genotype-phenotype_distinction',\n",
       "  'wikidata_id': 'Q5533517'},\n",
       " {'pageviews': 269, 'title': 'Jan_Klein', 'wikidata_id': 'Q822241'}]"
      ]
     },
     "execution_count": 45,
     "metadata": {},
     "output_type": "execute_result"
    }
   ],
   "source": [
    "tr.get_seeded_recommendations( 'Biology', num_recs=10, min_score=0.1)"
   ]
  },
  {
   "cell_type": "code",
   "execution_count": 46,
   "metadata": {
    "collapsed": false
   },
   "outputs": [
    {
     "data": {
      "text/plain": [
       "[{'pageviews': 58024, 'title': 'Pad_Thai', 'wikidata_id': 'Q730298'},\n",
       " {'pageviews': 4071, 'title': 'Nam_phrik', 'wikidata_id': 'Q4922876'},\n",
       " {'pageviews': 918, 'title': 'Nam_khao', 'wikidata_id': 'Q6961172'},\n",
       " {'pageviews': 2158, 'title': 'Nam_tok_(food)', 'wikidata_id': 'Q4923638'},\n",
       " {'pageviews': 522, 'title': 'Bánh_pía', 'wikidata_id': 'Q5004807'},\n",
       " {'pageviews': 5015, 'title': 'Thai_fried_rice', 'wikidata_id': 'Q4922489'},\n",
       " {'pageviews': 8795, 'title': 'Lao_cuisine', 'wikidata_id': 'Q1372774'},\n",
       " {'pageviews': 10070, 'title': 'Larb', 'wikidata_id': 'Q3052288'},\n",
       " {'pageviews': 1057, 'title': 'Nam_ngiao', 'wikidata_id': 'Q130194'},\n",
       " {'pageviews': 557, 'title': 'Ohn_no_khao_swè', 'wikidata_id': 'Q7081117'}]"
      ]
     },
     "execution_count": 46,
     "metadata": {},
     "output_type": "execute_result"
    }
   ],
   "source": [
    "tr.get_seeded_recommendations( 'Pad_Thai', num_recs=10, min_score=0.1)"
   ]
  },
  {
   "cell_type": "code",
   "execution_count": 47,
   "metadata": {
    "collapsed": false
   },
   "outputs": [
    {
     "data": {
      "text/plain": [
       "[{'pageviews': 9764, 'title': 'Mama_(TV_series)', 'wikidata_id': 'Q17099706'},\n",
       " {'pageviews': 61318, 'title': 'Jessa_Duggar', 'wikidata_id': 'Q19282024'},\n",
       " {'pageviews': 872, 'title': 'Jerry_Lester', 'wikidata_id': 'Q19319436'},\n",
       " {'pageviews': 10725, 'title': 'Garry_Moore', 'wikidata_id': 'Q4354677'},\n",
       " {'pageviews': 598, 'title': 'Rich_Jeffries', 'wikidata_id': 'Q7323309'},\n",
       " {'pageviews': 441, 'title': 'John_Aylesworth', 'wikidata_id': 'Q3180955'},\n",
       " {'pageviews': 463, 'title': 'Ira_Skutch', 'wikidata_id': 'Q20065034'},\n",
       " {'pageviews': 926, 'title': 'Freda_Wright-Sorce', 'wikidata_id': 'Q5496664'},\n",
       " {'pageviews': 429, 'title': 'Eddie_Hubbard', 'wikidata_id': 'Q5336137'},\n",
       " {'pageviews': 387, 'title': 'Rasha_Drachkovitch', 'wikidata_id': 'Q7294766'}]"
      ]
     },
     "execution_count": 47,
     "metadata": {},
     "output_type": "execute_result"
    }
   ],
   "source": [
    "tr.get_seeded_recommendations( 'Red_Skelton', num_recs=10, min_score=0.1)"
   ]
  },
  {
   "cell_type": "code",
   "execution_count": 48,
   "metadata": {
    "collapsed": false
   },
   "outputs": [
    {
     "data": {
      "text/plain": [
       "[{'pageviews': 209, 'title': 'Halocin', 'wikidata_id': 'Q5643356'},\n",
       " {'pageviews': 1612, 'title': 'Phenome', 'wikidata_id': 'Q844116'},\n",
       " {'pageviews': 1240, 'title': 'Weismann_barrier', 'wikidata_id': 'Q1883991'},\n",
       " {'pageviews': 1964,\n",
       "  'title': 'Common_misunderstandings_of_genetics',\n",
       "  'wikidata_id': 'Q5153572'},\n",
       " {'pageviews': 351, 'title': 'Chemoton', 'wikidata_id': 'Q1106696'},\n",
       " {'pageviews': 655,\n",
       "  'title': 'History_of_model_organisms',\n",
       "  'wikidata_id': 'Q5868220'},\n",
       " {'pageviews': 556, 'title': '2R_hypothesis', 'wikidata_id': 'Q4633212'},\n",
       " {'pageviews': 844, 'title': 'Two-empire_system', 'wikidata_id': 'Q3324187'},\n",
       " {'pageviews': 10017,\n",
       "  'title': 'Genotype-phenotype_distinction',\n",
       "  'wikidata_id': 'Q5533517'},\n",
       " {'pageviews': 269, 'title': 'Jan_Klein', 'wikidata_id': 'Q822241'}]"
      ]
     },
     "execution_count": 48,
     "metadata": {},
     "output_type": "execute_result"
    }
   ],
   "source": [
    "tr.get_seeded_recommendations( 'Biology', num_recs=10, min_score=0.1)"
   ]
  },
  {
   "cell_type": "code",
   "execution_count": 49,
   "metadata": {
    "collapsed": false
   },
   "outputs": [
    {
     "data": {
      "text/plain": [
       "[{'pageviews': 2200,\n",
       "  'title': 'Existentialist_anarchism',\n",
       "  'wikidata_id': 'Q5420363'},\n",
       " {'pageviews': 943, 'title': 'Politics_of_Nature', 'wikidata_id': 'Q3395235'},\n",
       " {'pageviews': 293,\n",
       "  'title': 'The_Right_to_Be_Greedy',\n",
       "  'wikidata_id': 'Q7760769'},\n",
       " {'pageviews': 261,\n",
       "  'title': 'The_Ecology_of_Freedom',\n",
       "  'wikidata_id': 'Q18207980'},\n",
       " {'pageviews': 2969,\n",
       "  'title': 'Influences_on_Karl_Marx',\n",
       "  'wikidata_id': 'Q6030251'},\n",
       " {'pageviews': 366,\n",
       "  'title': 'Philosophy_and_Real_Politics',\n",
       "  'wikidata_id': 'Q7186224'},\n",
       " {'pageviews': 3745, 'title': 'Transcendentals', 'wikidata_id': 'Q1432095'},\n",
       " {'pageviews': 249, 'title': 'Epistemocracy', 'wikidata_id': 'Q5383596'},\n",
       " {'pageviews': 967,\n",
       "  'title': 'Liberalism_and_the_Limits_of_Justice',\n",
       "  'wikidata_id': 'Q6540882'},\n",
       " {'pageviews': 4064, 'title': 'Post-left_anarchy', 'wikidata_id': 'Q2574500'}]"
      ]
     },
     "execution_count": 49,
     "metadata": {},
     "output_type": "execute_result"
    }
   ],
   "source": [
    "tr.get_seeded_recommendations( 'Individualism', num_recs=10, min_score=0.1)"
   ]
  },
  {
   "cell_type": "code",
   "execution_count": null,
   "metadata": {
    "collapsed": true
   },
   "outputs": [],
   "source": []
  }
 ],
 "metadata": {
  "kernelspec": {
   "display_name": "Python 3",
   "language": "python",
   "name": "python3"
  },
  "language_info": {
   "codemirror_mode": {
    "name": "ipython",
    "version": 3
   },
   "file_extension": ".py",
   "mimetype": "text/x-python",
   "name": "python",
   "nbconvert_exporter": "python",
   "pygments_lexer": "ipython3",
   "version": "3.4.3"
  }
 },
 "nbformat": 4,
 "nbformat_minor": 0
}
