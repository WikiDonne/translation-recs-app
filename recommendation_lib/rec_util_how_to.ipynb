{
 "cells": [
  {
   "cell_type": "code",
   "execution_count": 95,
   "metadata": {
    "collapsed": false
   },
   "outputs": [
    {
     "name": "stdout",
     "output_type": "stream",
     "text": [
      "The autoreload extension is already loaded. To reload it, use:\n",
      "  %reload_ext autoreload\n"
     ]
    }
   ],
   "source": [
    "%load_ext autoreload\n",
    "%autoreload\n",
    "\n",
    "\n",
    "import inspect, os\n",
    "currentdir = os.path.dirname(os.path.abspath(inspect.getfile(inspect.currentframe())))\n",
    "parentdir = os.path.dirname(currentdir)\n",
    "os.sys.path.insert(0,parentdir)\n",
    "\n",
    "from app.db_util import *\n",
    "from rec_util import TopicModel, TranslationRecommender"
   ]
  },
  {
   "cell_type": "code",
   "execution_count": 10,
   "metadata": {
    "collapsed": true
   },
   "outputs": [],
   "source": [
    "data_dir = '/Users/ellerywulczyn/translation-recs-app/data'\n",
    "s = 'simple'\n",
    "t = 'es'"
   ]
  },
  {
   "cell_type": "code",
   "execution_count": 11,
   "metadata": {
    "collapsed": false
   },
   "outputs": [
    {
     "name": "stdout",
     "output_type": "stream",
     "text": [
      "/Users/ellerywulczyn/translation-recs-app/data/simple/doc2topic.mtx\n"
     ]
    }
   ],
   "source": [
    "tm = TopicModel(data_dir, 'simple')"
   ]
  },
  {
   "cell_type": "code",
   "execution_count": 38,
   "metadata": {
    "collapsed": false
   },
   "outputs": [],
   "source": [
    "tr = TranslationRecommender(data_dir, s, t, tm)"
   ]
  },
  {
   "cell_type": "code",
   "execution_count": 41,
   "metadata": {
    "collapsed": false
   },
   "outputs": [
    {
     "data": {
      "text/plain": [
       "['Jerome Ehlers',\n",
       " 'Music! Music! Music!',\n",
       " 'Massacres of Erzurum',\n",
       " 'Tokyo Medical and Dental University',\n",
       " 'Kevin Burkhardt',\n",
       " 'Mixed government',\n",
       " 'Irish State Coach',\n",
       " 'Hugh Orde',\n",
       " 'Koji Noguchi',\n",
       " 'Caroline Chisholm']"
      ]
     },
     "execution_count": 41,
     "metadata": {},
     "output_type": "execute_result"
    }
   ],
   "source": [
    "tr.get_global_recommendations(num_recs = 10)"
   ]
  },
  {
   "cell_type": "code",
   "execution_count": 102,
   "metadata": {
    "collapsed": false
   },
   "outputs": [
    {
     "data": {
      "text/plain": [
       "['Paquita',\n",
       " 'Haptic_technology',\n",
       " 'Marie_Gillain',\n",
       " 'Daphne',\n",
       " 'Black_bread_mold',\n",
       " 'Lovely_Mary',\n",
       " 'Death_of_Eric_Garner',\n",
       " 'Jihad_Jabril',\n",
       " 'Simone_Rethel',\n",
       " 'Hercules_vs._the_Moon_Men']"
      ]
     },
     "execution_count": 102,
     "metadata": {},
     "output_type": "execute_result"
    }
   ],
   "source": [
    "tr.get_seeded_recommendations( 'Jenna_Jameson', num_recs=10, min_score=0.1)"
   ]
  },
  {
   "cell_type": "code",
   "execution_count": 81,
   "metadata": {
    "collapsed": false
   },
   "outputs": [],
   "source": [
    "contribution_df = get_user_contributions('enwiki', 'EpochFail', window = 15)"
   ]
  },
  {
   "cell_type": "code",
   "execution_count": 96,
   "metadata": {
    "collapsed": false
   },
   "outputs": [
    {
     "data": {
      "text/plain": [
       "[]"
      ]
     },
     "execution_count": 96,
     "metadata": {},
     "output_type": "execute_result"
    }
   ],
   "source": [
    "tr.get_user_recommendations(contribution_df, num_recs=100, min_score=0.4)"
   ]
  },
  {
   "cell_type": "code",
   "execution_count": null,
   "metadata": {
    "collapsed": true
   },
   "outputs": [],
   "source": []
  }
 ],
 "metadata": {
  "kernelspec": {
   "display_name": "Python 3",
   "language": "python",
   "name": "python3"
  },
  "language_info": {
   "codemirror_mode": {
    "name": "ipython",
    "version": 3
   },
   "file_extension": ".py",
   "mimetype": "text/x-python",
   "name": "python",
   "nbconvert_exporter": "python",
   "pygments_lexer": "ipython3",
   "version": "3.4.3"
  }
 },
 "nbformat": 4,
 "nbformat_minor": 0
}
