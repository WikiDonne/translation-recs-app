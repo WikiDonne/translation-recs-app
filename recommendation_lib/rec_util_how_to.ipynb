{
 "cells": [
  {
   "cell_type": "code",
   "execution_count": 1,
   "metadata": {
    "collapsed": false
   },
   "outputs": [
    {
     "name": "stderr",
     "output_type": "stream",
     "text": [
      "Vendor:  Continuum Analytics, Inc.\n",
      "Package: mkl\n",
      "Message: trial mode expires in 22 days\n"
     ]
    }
   ],
   "source": [
    "%load_ext autoreload\n",
    "%autoreload\n",
    "\n",
    "\n",
    "import inspect, os\n",
    "currentdir = os.path.dirname(os.path.abspath(inspect.getfile(inspect.currentframe())))\n",
    "parentdir = os.path.dirname(currentdir)\n",
    "os.sys.path.insert(0,parentdir)\n",
    "\n",
    "from app.db_util import *\n",
    "from rec_util import TopicModel, TranslationRecommender"
   ]
  },
  {
   "cell_type": "code",
   "execution_count": 2,
   "metadata": {
    "collapsed": true
   },
   "outputs": [],
   "source": [
    "data_dir = '/Users/ellerywulczyn/translation-recs-app/data'\n",
    "s = 'en'"
   ]
  },
  {
   "cell_type": "code",
   "execution_count": 3,
   "metadata": {
    "collapsed": false
   },
   "outputs": [
    {
     "name": "stdout",
     "output_type": "stream",
     "text": [
      "/Users/ellerywulczyn/translation-recs-app/data/en/doc2topic.mtx\n"
     ]
    }
   ],
   "source": [
    "tm = TopicModel(data_dir, s)"
   ]
  },
  {
   "cell_type": "code",
   "execution_count": 4,
   "metadata": {
    "collapsed": true
   },
   "outputs": [],
   "source": [
    "t = 'es'"
   ]
  },
  {
   "cell_type": "code",
   "execution_count": 5,
   "metadata": {
    "collapsed": false
   },
   "outputs": [],
   "source": [
    "tr = TranslationRecommender(data_dir, s, t, tm)"
   ]
  },
  {
   "cell_type": "code",
   "execution_count": 6,
   "metadata": {
    "collapsed": false
   },
   "outputs": [
    {
     "data": {
      "text/plain": [
       "['Izobilnensky_District',\n",
       " 'Horst_Schubert',\n",
       " 'Palestine_Stereo',\n",
       " 'Chandra_Mall',\n",
       " 'Acharei_Mot',\n",
       " 'Geichlingen',\n",
       " 'South_Conway_County_School_District',\n",
       " \"Steve_O'Rourke\",\n",
       " 'Donna_Sheldon',\n",
       " 'Lincolnshire_Aviation_Heritage_Centre']"
      ]
     },
     "execution_count": 6,
     "metadata": {},
     "output_type": "execute_result"
    }
   ],
   "source": [
    "tr.get_global_recommendations(num_recs = 10)"
   ]
  },
  {
   "cell_type": "code",
   "execution_count": 143,
   "metadata": {
    "collapsed": false
   },
   "outputs": [
    {
     "data": {
      "text/plain": [
       "['Bovine_herpesvirus_2',\n",
       " 'Rotaviral_enteritis',\n",
       " 'NmVac4-A/C/Y/W-135',\n",
       " 'Pyocyanase',\n",
       " 'Herpes_B_virus',\n",
       " 'Vaccine_failure',\n",
       " 'Viral_pneumonia',\n",
       " 'Duck_adenovirus_A',\n",
       " 'Buffalopox',\n",
       " 'VSV-EBOV']"
      ]
     },
     "execution_count": 143,
     "metadata": {},
     "output_type": "execute_result"
    }
   ],
   "source": [
    "tr.get_seeded_recommendations( 'Ebola_virus_disease', num_recs=10, min_score=0.1)"
   ]
  },
  {
   "cell_type": "code",
   "execution_count": 125,
   "metadata": {
    "collapsed": false
   },
   "outputs": [
    {
     "data": {
      "text/plain": [
       "['History_of_molecular_evolution',\n",
       " 'Evolutionary_physiology',\n",
       " 'Outline_of_biology',\n",
       " 'Graham_Cairns-Smith',\n",
       " 'Bootstrapping_(biology)',\n",
       " 'Marion_J._Lamb',\n",
       " 'Bateson–Dobzhansky–Muller_model',\n",
       " 'Bowman-Heidenhain_hypothesis',\n",
       " 'Germline',\n",
       " 'Nylon-eating_bacteria_and_creationism']"
      ]
     },
     "execution_count": 125,
     "metadata": {},
     "output_type": "execute_result"
    }
   ],
   "source": [
    "tr.get_seeded_recommendations( 'Biology', num_recs=10, min_score=0.1)"
   ]
  },
  {
   "cell_type": "code",
   "execution_count": 126,
   "metadata": {
    "collapsed": false
   },
   "outputs": [
    {
     "data": {
      "text/plain": [
       "[\"The_Nation's_Noodle\",\n",
       " 'Sai_krok_Isan',\n",
       " 'Nam_ngiao',\n",
       " 'Kaeng_pa',\n",
       " 'Khanom_bueang',\n",
       " 'Thai_suki',\n",
       " 'Phat_mi_Khorat',\n",
       " 'Es_kelapa_muda',\n",
       " 'Es_buah',\n",
       " 'Chiang_Rai_fried_pork']"
      ]
     },
     "execution_count": 126,
     "metadata": {},
     "output_type": "execute_result"
    }
   ],
   "source": [
    "tr.get_seeded_recommendations( 'Pad_Thai', num_recs=10, min_score=0.1)"
   ]
  },
  {
   "cell_type": "code",
   "execution_count": 141,
   "metadata": {
    "collapsed": false
   },
   "outputs": [
    {
     "data": {
      "text/plain": [
       "['Steve_Landesberg',\n",
       " 'Charita_Bauer',\n",
       " 'Ken_Roberts_(announcer)',\n",
       " 'Mary_Fickett',\n",
       " 'Noah_Bean',\n",
       " 'Bill_Jackson_(television_personality)',\n",
       " 'Barry_Took',\n",
       " 'Lisa_Gerritsen',\n",
       " 'David_Eigenberg',\n",
       " 'Roger_Howarth']"
      ]
     },
     "execution_count": 141,
     "metadata": {},
     "output_type": "execute_result"
    }
   ],
   "source": [
    "tr.get_seeded_recommendations( 'Red_Skelton', num_recs=10, min_score=0.1)"
   ]
  },
  {
   "cell_type": "code",
   "execution_count": 144,
   "metadata": {
    "collapsed": false
   },
   "outputs": [
    {
     "data": {
      "text/plain": [
       "['History_of_molecular_evolution',\n",
       " 'Evolutionary_physiology',\n",
       " 'Outline_of_biology',\n",
       " 'Graham_Cairns-Smith',\n",
       " 'Bootstrapping_(biology)',\n",
       " 'Marion_J._Lamb',\n",
       " 'Bateson–Dobzhansky–Muller_model',\n",
       " 'Bowman-Heidenhain_hypothesis',\n",
       " 'Germline',\n",
       " 'Nylon-eating_bacteria_and_creationism']"
      ]
     },
     "execution_count": 144,
     "metadata": {},
     "output_type": "execute_result"
    }
   ],
   "source": [
    "tr.get_seeded_recommendations( 'Biology', num_recs=10, min_score=0.1)"
   ]
  },
  {
   "cell_type": "code",
   "execution_count": 8,
   "metadata": {
    "collapsed": false
   },
   "outputs": [
    {
     "data": {
      "text/plain": [
       "['Fourier_complex',\n",
       " 'The_Politics_of_Individualism',\n",
       " 'Existentialist_anarchism',\n",
       " 'Degeneration_(Nordau)',\n",
       " 'Critique_of_Cynical_Reason',\n",
       " 'Philosophy_of_Max_Stirner',\n",
       " 'Men_Among_the_Ruins',\n",
       " 'The_Resistance_to_Theory',\n",
       " 'Philosophy_of_Friedrich_Nietzsche',\n",
       " 'Objectivity_and_Liberal_Scholarship']"
      ]
     },
     "execution_count": 8,
     "metadata": {},
     "output_type": "execute_result"
    }
   ],
   "source": [
    "tr.get_seeded_recommendations( 'Individualism', num_recs=10, min_score=0.1)"
   ]
  },
  {
   "cell_type": "code",
   "execution_count": 97,
   "metadata": {
    "collapsed": false
   },
   "outputs": [],
   "source": [
    "contribution_df = get_user_contributions('enwiki', 'EpochFail', window = 15)"
   ]
  },
  {
   "cell_type": "code",
   "execution_count": 98,
   "metadata": {
    "collapsed": false
   },
   "outputs": [
    {
     "data": {
      "text/plain": [
       "[]"
      ]
     },
     "execution_count": 98,
     "metadata": {},
     "output_type": "execute_result"
    }
   ],
   "source": [
    "tr.get_user_recommendations(contribution_df, num_recs=10, min_score=0.4)"
   ]
  },
  {
   "cell_type": "code",
   "execution_count": null,
   "metadata": {
    "collapsed": true
   },
   "outputs": [],
   "source": []
  }
 ],
 "metadata": {
  "kernelspec": {
   "display_name": "Python 3",
   "language": "python",
   "name": "python3"
  },
  "language_info": {
   "codemirror_mode": {
    "name": "ipython",
    "version": 3
   },
   "file_extension": ".py",
   "mimetype": "text/x-python",
   "name": "python",
   "nbconvert_exporter": "python",
   "pygments_lexer": "ipython3",
   "version": "3.4.3"
  }
 },
 "nbformat": 4,
 "nbformat_minor": 0
}
