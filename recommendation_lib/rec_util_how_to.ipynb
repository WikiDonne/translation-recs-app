{
 "cells": [
  {
   "cell_type": "code",
   "execution_count": 23,
   "metadata": {
    "collapsed": false
   },
   "outputs": [
    {
     "name": "stdout",
     "output_type": "stream",
     "text": [
      "The autoreload extension is already loaded. To reload it, use:\n",
      "  %reload_ext autoreload\n"
     ]
    }
   ],
   "source": [
    "%load_ext autoreload\n",
    "%autoreload\n",
    "\n",
    "\n",
    "import inspect, os\n",
    "currentdir = os.path.dirname(os.path.abspath(inspect.getfile(inspect.currentframe())))\n",
    "parentdir = os.path.dirname(currentdir)\n",
    "os.sys.path.insert(0,parentdir)\n",
    "\n",
    "from app.db_util import *\n",
    "from rec_util import TopicModel, TranslationRecommender"
   ]
  },
  {
   "cell_type": "code",
   "execution_count": 14,
   "metadata": {
    "collapsed": true
   },
   "outputs": [],
   "source": [
    "data_dir = '/Users/ellerywulczyn/translation-recs-app/data'\n",
    "s = 'simple'"
   ]
  },
  {
   "cell_type": "code",
   "execution_count": 15,
   "metadata": {
    "collapsed": false
   },
   "outputs": [
    {
     "name": "stdout",
     "output_type": "stream",
     "text": [
      "/Users/ellerywulczyn/translation-recs-app/data/simple/doc2topic.mtx\n"
     ]
    }
   ],
   "source": [
    "tm = TopicModel(data_dir, s)"
   ]
  },
  {
   "cell_type": "code",
   "execution_count": 16,
   "metadata": {
    "collapsed": true
   },
   "outputs": [],
   "source": [
    "t = 'es'"
   ]
  },
  {
   "cell_type": "code",
   "execution_count": 17,
   "metadata": {
    "collapsed": false
   },
   "outputs": [],
   "source": [
    "tr = TranslationRecommender(data_dir, s, t, tm)"
   ]
  },
  {
   "cell_type": "code",
   "execution_count": 24,
   "metadata": {
    "collapsed": false
   },
   "outputs": [
    {
     "data": {
      "text/plain": [
       "[{'pageviews': 33621, 'title': 'Environment'},\n",
       " {'pageviews': 20762, 'title': 'Sex_organ'},\n",
       " {'pageviews': 17930, 'title': 'Rani_Lakshmibai'},\n",
       " {'pageviews': 15209, 'title': 'Murder_of_Linda_Andersen'},\n",
       " {'pageviews': 11726, 'title': 'Soil_erosion'},\n",
       " {'pageviews': 11327, 'title': 'Teenager'},\n",
       " {'pageviews': 11149, 'title': 'Ahmad_Jannati'},\n",
       " {'pageviews': 10167, 'title': 'Bhagat_Singh'},\n",
       " {'pageviews': 9976, 'title': 'Mobile_phone'},\n",
       " {'pageviews': 7884, 'title': 'The_Dark_Knight_Trilogy'}]"
      ]
     },
     "execution_count": 24,
     "metadata": {},
     "output_type": "execute_result"
    }
   ],
   "source": [
    "tr.get_global_recommendations(num_recs = 10)"
   ]
  },
  {
   "cell_type": "code",
   "execution_count": 25,
   "metadata": {
    "collapsed": false
   },
   "outputs": [],
   "source": [
    "tr.get_seeded_recommendations( 'Ebola_virus_disease', num_recs=10, min_score=0.1)"
   ]
  },
  {
   "cell_type": "code",
   "execution_count": 26,
   "metadata": {
    "collapsed": false
   },
   "outputs": [
    {
     "data": {
      "text/plain": [
       "[{'pageviews': 189, 'title': 'Simplicity'},\n",
       " {'pageviews': 208, 'title': 'Oblate_spheroid'},\n",
       " {'pageviews': 593, 'title': 'Taxonomy'},\n",
       " {'pageviews': 1280, 'title': 'Identical_twins'},\n",
       " {'pageviews': 172, 'title': 'Process'},\n",
       " {'pageviews': 158, 'title': 'Intensity_(physics)'},\n",
       " {'pageviews': 101, 'title': 'Sol_(colloid)'},\n",
       " {'pageviews': 212, 'title': 'Ice_algae'},\n",
       " {'pageviews': 439, 'title': 'Frederick_Ward_(bushranger)'},\n",
       " {'pageviews': 185, 'title': 'Homogeneity'}]"
      ]
     },
     "execution_count": 26,
     "metadata": {},
     "output_type": "execute_result"
    }
   ],
   "source": [
    "tr.get_seeded_recommendations( 'Biology', num_recs=10, min_score=0.1)"
   ]
  },
  {
   "cell_type": "code",
   "execution_count": 27,
   "metadata": {
    "collapsed": false
   },
   "outputs": [],
   "source": [
    "tr.get_seeded_recommendations( 'Pad_Thai', num_recs=10, min_score=0.1)"
   ]
  },
  {
   "cell_type": "code",
   "execution_count": 28,
   "metadata": {
    "collapsed": false
   },
   "outputs": [
    {
     "data": {
      "text/plain": [
       "[{'pageviews': 103, 'title': 'British_Rail_Class_432'},\n",
       " {'pageviews': 286, 'title': 'Asuna_Tanaka'},\n",
       " {'pageviews': 148, 'title': 'Al_Molinaro'},\n",
       " {'pageviews': 132, 'title': '1916_Stanley_Cup_Finals'},\n",
       " {'pageviews': 107, 'title': 'Kallhälls_BK'},\n",
       " {'pageviews': 138, 'title': 'Halesworth'},\n",
       " {'pageviews': 209, 'title': 'Erina_Yamane'},\n",
       " {'pageviews': 335, 'title': 'Kyoko_Yano'},\n",
       " {'pageviews': 262, 'title': 'Donald_Bradman'},\n",
       " {'pageviews': 287, 'title': 'Yumi_Obe'}]"
      ]
     },
     "execution_count": 28,
     "metadata": {},
     "output_type": "execute_result"
    }
   ],
   "source": [
    "tr.get_seeded_recommendations( 'Red_Skelton', num_recs=10, min_score=0.1)"
   ]
  },
  {
   "cell_type": "code",
   "execution_count": 144,
   "metadata": {
    "collapsed": false
   },
   "outputs": [
    {
     "data": {
      "text/plain": [
       "['History_of_molecular_evolution',\n",
       " 'Evolutionary_physiology',\n",
       " 'Outline_of_biology',\n",
       " 'Graham_Cairns-Smith',\n",
       " 'Bootstrapping_(biology)',\n",
       " 'Marion_J._Lamb',\n",
       " 'Bateson–Dobzhansky–Muller_model',\n",
       " 'Bowman-Heidenhain_hypothesis',\n",
       " 'Germline',\n",
       " 'Nylon-eating_bacteria_and_creationism']"
      ]
     },
     "execution_count": 144,
     "metadata": {},
     "output_type": "execute_result"
    }
   ],
   "source": [
    "tr.get_seeded_recommendations( 'Biology', num_recs=10, min_score=0.1)"
   ]
  },
  {
   "cell_type": "code",
   "execution_count": 8,
   "metadata": {
    "collapsed": false
   },
   "outputs": [
    {
     "data": {
      "text/plain": [
       "['Fourier_complex',\n",
       " 'The_Politics_of_Individualism',\n",
       " 'Existentialist_anarchism',\n",
       " 'Degeneration_(Nordau)',\n",
       " 'Critique_of_Cynical_Reason',\n",
       " 'Philosophy_of_Max_Stirner',\n",
       " 'Men_Among_the_Ruins',\n",
       " 'The_Resistance_to_Theory',\n",
       " 'Philosophy_of_Friedrich_Nietzsche',\n",
       " 'Objectivity_and_Liberal_Scholarship']"
      ]
     },
     "execution_count": 8,
     "metadata": {},
     "output_type": "execute_result"
    }
   ],
   "source": [
    "tr.get_seeded_recommendations( 'Individualism', num_recs=10, min_score=0.1)"
   ]
  },
  {
   "cell_type": "code",
   "execution_count": 97,
   "metadata": {
    "collapsed": false
   },
   "outputs": [],
   "source": [
    "contribution_df = get_user_contributions('enwiki', 'EpochFail', window = 15)"
   ]
  },
  {
   "cell_type": "code",
   "execution_count": 98,
   "metadata": {
    "collapsed": false
   },
   "outputs": [
    {
     "data": {
      "text/plain": [
       "[]"
      ]
     },
     "execution_count": 98,
     "metadata": {},
     "output_type": "execute_result"
    }
   ],
   "source": [
    "tr.get_user_recommendations(contribution_df, num_recs=10, min_score=0.4)"
   ]
  },
  {
   "cell_type": "code",
   "execution_count": null,
   "metadata": {
    "collapsed": true
   },
   "outputs": [],
   "source": []
  }
 ],
 "metadata": {
  "kernelspec": {
   "display_name": "Python 3",
   "language": "python",
   "name": "python3"
  },
  "language_info": {
   "codemirror_mode": {
    "name": "ipython",
    "version": 3
   },
   "file_extension": ".py",
   "mimetype": "text/x-python",
   "name": "python",
   "nbconvert_exporter": "python",
   "pygments_lexer": "ipython3",
   "version": "3.4.3"
  }
 },
 "nbformat": 4,
 "nbformat_minor": 0
}
